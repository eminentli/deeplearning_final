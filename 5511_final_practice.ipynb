{
 "cells": [
  {
   "cell_type": "markdown",
   "metadata": {
    "execution": {
     "iopub.execute_input": "2023-05-24T13:34:51.073858Z",
     "iopub.status.busy": "2023-05-24T13:34:51.060892Z",
     "iopub.status.idle": "2023-05-24T13:34:51.225452Z",
     "shell.execute_reply": "2023-05-24T13:34:51.223458Z",
     "shell.execute_reply.started": "2023-05-24T13:34:51.063509Z"
    },
    "tags": []
   },
   "source": [
    "# Practice for 5511 Deeplearning : Text Mining for Amazon Musical Instruments Reviews\n",
    "\n",
    "\n",
    "*June 2023*\n",
    "\n",
    "\n",
    "### **Problem Statement**\n",
    "\n",
    "The objective of this project is to perform Sentimental Analysis for the customer review data. Help the organization to understand better about their customer feedback's So that they can concentrate on those issues customer's are facing. Build the model which has highest accuracy in classifying the feedback as positive,Negative and neutral.\n",
    "\n",
    "### **Data Source:**\n",
    "\n",
    "https://www.kaggle.com/datasets/eswarchandt/amazon-music-reviews\n",
    "\n",
    "\n",
    "The data set includes 10261 records, including columns: reviewer ID , User ID, Reviewer Name, Reviewer text, helpful, Summary(obtained from Reviewer text),Overall Rating on a scale 5, Review time\n",
    "Description of columns in the file:\n",
    "\n",
    "| **Column Name** | **Description**                               |\n",
    "|-----------------|-----------------------------------------------|\n",
    "| reviewerID      |  ID   of the reviewer, e.g. A2SUAM1J3GNN3B    |\n",
    "| asin            |  ID of the product, e.g. 0000013714           |\n",
    "| reviewerName    |  name of the reviewer                         |\n",
    "| helpful         |  helpfulness rating of the review,   e.g. 2/3 |\n",
    "| reviewText      |  text of the review                           |\n",
    "| overall         |  rating of the product                        |\n",
    "| summary         |  summary of the review                        |\n",
    "| unixReviewTime  |  time of the review (unix time)               |\n",
    "| reviewTime      |  time of the review (raw)                     |\n",
    "\n",
    "\n",
    "### **Methodology**\n",
    "\n",
    "RNN will be built for this project.  \n",
    "\n",
    "By completing this project, we hope to enhance our knowledge of RNN and its applicability in real-world scenarios.\n",
    "\n",
    "### **Detail steps** \n",
    "\n",
    "\n",
    "**1. Exploratory Data Analysis (EDA)** \n",
    "\n",
    "Firstly we will explore and visualize the data to understand the structure and distribution of the data.  \n",
    "\n",
    "**2. Model Training & Evaluation**\n",
    "\n",
    "Next, we will build RNN with training data set and check the performance on photo dataset. \n",
    "Different architecture such as LSTM & GRU will be tried.\n",
    "\n",
    "\n",
    "**3. Conclusions**\n",
    "\n",
    "Finally, we will summarize the results and see what can be improved in the future. "
   ]
  },
  {
   "cell_type": "code",
   "execution_count": 1,
   "metadata": {
    "execution": {
     "iopub.execute_input": "2023-06-09T14:51:57.708832Z",
     "iopub.status.busy": "2023-06-09T14:51:57.708832Z",
     "iopub.status.idle": "2023-06-09T14:52:39.293098Z",
     "shell.execute_reply": "2023-06-09T14:52:39.290099Z",
     "shell.execute_reply.started": "2023-06-09T14:51:57.708832Z"
    },
    "tags": []
   },
   "outputs": [],
   "source": [
    "# importing the necessary libraries:\n",
    "\n",
    "import pandas as pd\n",
    "import numpy as np\n",
    "import seaborn as sns\n",
    "import matplotlib.pyplot as plt\n",
    "import string\n",
    "from tqdm import tqdm\n",
    "import re\n",
    "\n",
    "import nltk # To work with natural language\n",
    "from nltk.tokenize import word_tokenize # To tokenize each tweet\n",
    "from nltk.corpus import PlaintextCorpusReader # To create the corpus\n",
    "\n",
    "import regex as re\n",
    "from nltk.corpus import stopwords\n",
    "from bs4 import BeautifulSoup\n",
    "\n",
    "from sklearn.model_selection import train_test_split\n",
    "\n",
    "import tensorflow as tf\n",
    "from keras.preprocessing.text import Tokenizer\n",
    "from tensorflow.keras.preprocessing.sequence import pad_sequences\n",
    "from keras.models import Sequential\n",
    "from keras.layers import Embedding,LSTM,GRU,Dense,SpatialDropout1D,Dropout,Flatten\n",
    "from keras.initializers import Constant\n",
    "from keras.optimizers import Adam\n",
    "\n",
    "from keras.callbacks import LearningRateScheduler\n",
    "import math\n",
    "from keras.regularizers import l2\n",
    "from keras.callbacks import EarlyStopping\n",
    "\n",
    "import warnings\n",
    "\n",
    "# Define the filter to ignore the MarkupResemblesLocatorWarning\n",
    "warnings.filterwarnings(\"ignore\", category=UserWarning, message=\"MarkupResemblesLocatorWarning\")"
   ]
  },
  {
   "cell_type": "markdown",
   "metadata": {},
   "source": [
    "#  EDA"
   ]
  },
  {
   "cell_type": "markdown",
   "metadata": {},
   "source": [
    "### DATA LOADING"
   ]
  },
  {
   "cell_type": "code",
   "execution_count": 2,
   "metadata": {
    "execution": {
     "iopub.execute_input": "2023-06-09T14:52:48.197388Z",
     "iopub.status.busy": "2023-06-09T14:52:48.196809Z",
     "iopub.status.idle": "2023-06-09T14:52:48.385914Z",
     "shell.execute_reply": "2023-06-09T14:52:48.383900Z",
     "shell.execute_reply.started": "2023-06-09T14:52:48.197388Z"
    },
    "tags": []
   },
   "outputs": [],
   "source": [
    "df_train = pd.read_csv('./data/Musical_instruments_reviews.csv')\n"
   ]
  },
  {
   "cell_type": "code",
   "execution_count": 3,
   "metadata": {
    "execution": {
     "iopub.execute_input": "2023-06-09T14:52:51.640281Z",
     "iopub.status.busy": "2023-06-09T14:52:51.639281Z",
     "iopub.status.idle": "2023-06-09T14:52:51.685167Z",
     "shell.execute_reply": "2023-06-09T14:52:51.684168Z",
     "shell.execute_reply.started": "2023-06-09T14:52:51.640281Z"
    },
    "tags": []
   },
   "outputs": [
    {
     "data": {
      "text/html": [
       "<div>\n",
       "<style scoped>\n",
       "    .dataframe tbody tr th:only-of-type {\n",
       "        vertical-align: middle;\n",
       "    }\n",
       "\n",
       "    .dataframe tbody tr th {\n",
       "        vertical-align: top;\n",
       "    }\n",
       "\n",
       "    .dataframe thead th {\n",
       "        text-align: right;\n",
       "    }\n",
       "</style>\n",
       "<table border=\"1\" class=\"dataframe\">\n",
       "  <thead>\n",
       "    <tr style=\"text-align: right;\">\n",
       "      <th></th>\n",
       "      <th>reviewerID</th>\n",
       "      <th>asin</th>\n",
       "      <th>reviewerName</th>\n",
       "      <th>helpful</th>\n",
       "      <th>reviewText</th>\n",
       "      <th>overall</th>\n",
       "      <th>summary</th>\n",
       "      <th>unixReviewTime</th>\n",
       "      <th>reviewTime</th>\n",
       "    </tr>\n",
       "  </thead>\n",
       "  <tbody>\n",
       "    <tr>\n",
       "      <th>0</th>\n",
       "      <td>A2IBPI20UZIR0U</td>\n",
       "      <td>1384719342</td>\n",
       "      <td>cassandra tu \"Yeah, well, that's just like, u...</td>\n",
       "      <td>[0, 0]</td>\n",
       "      <td>Not much to write about here, but it does exac...</td>\n",
       "      <td>5.0</td>\n",
       "      <td>good</td>\n",
       "      <td>1393545600</td>\n",
       "      <td>02 28, 2014</td>\n",
       "    </tr>\n",
       "    <tr>\n",
       "      <th>1</th>\n",
       "      <td>A14VAT5EAX3D9S</td>\n",
       "      <td>1384719342</td>\n",
       "      <td>Jake</td>\n",
       "      <td>[13, 14]</td>\n",
       "      <td>The product does exactly as it should and is q...</td>\n",
       "      <td>5.0</td>\n",
       "      <td>Jake</td>\n",
       "      <td>1363392000</td>\n",
       "      <td>03 16, 2013</td>\n",
       "    </tr>\n",
       "    <tr>\n",
       "      <th>2</th>\n",
       "      <td>A195EZSQDW3E21</td>\n",
       "      <td>1384719342</td>\n",
       "      <td>Rick Bennette \"Rick Bennette\"</td>\n",
       "      <td>[1, 1]</td>\n",
       "      <td>The primary job of this device is to block the...</td>\n",
       "      <td>5.0</td>\n",
       "      <td>It Does The Job Well</td>\n",
       "      <td>1377648000</td>\n",
       "      <td>08 28, 2013</td>\n",
       "    </tr>\n",
       "    <tr>\n",
       "      <th>3</th>\n",
       "      <td>A2C00NNG1ZQQG2</td>\n",
       "      <td>1384719342</td>\n",
       "      <td>RustyBill \"Sunday Rocker\"</td>\n",
       "      <td>[0, 0]</td>\n",
       "      <td>Nice windscreen protects my MXL mic and preven...</td>\n",
       "      <td>5.0</td>\n",
       "      <td>GOOD WINDSCREEN FOR THE MONEY</td>\n",
       "      <td>1392336000</td>\n",
       "      <td>02 14, 2014</td>\n",
       "    </tr>\n",
       "    <tr>\n",
       "      <th>4</th>\n",
       "      <td>A94QU4C90B1AX</td>\n",
       "      <td>1384719342</td>\n",
       "      <td>SEAN MASLANKA</td>\n",
       "      <td>[0, 0]</td>\n",
       "      <td>This pop filter is great. It looks and perform...</td>\n",
       "      <td>5.0</td>\n",
       "      <td>No more pops when I record my vocals.</td>\n",
       "      <td>1392940800</td>\n",
       "      <td>02 21, 2014</td>\n",
       "    </tr>\n",
       "  </tbody>\n",
       "</table>\n",
       "</div>"
      ],
      "text/plain": [
       "       reviewerID        asin  \\\n",
       "0  A2IBPI20UZIR0U  1384719342   \n",
       "1  A14VAT5EAX3D9S  1384719342   \n",
       "2  A195EZSQDW3E21  1384719342   \n",
       "3  A2C00NNG1ZQQG2  1384719342   \n",
       "4   A94QU4C90B1AX  1384719342   \n",
       "\n",
       "                                       reviewerName   helpful  \\\n",
       "0  cassandra tu \"Yeah, well, that's just like, u...    [0, 0]   \n",
       "1                                              Jake  [13, 14]   \n",
       "2                     Rick Bennette \"Rick Bennette\"    [1, 1]   \n",
       "3                         RustyBill \"Sunday Rocker\"    [0, 0]   \n",
       "4                                     SEAN MASLANKA    [0, 0]   \n",
       "\n",
       "                                          reviewText  overall  \\\n",
       "0  Not much to write about here, but it does exac...      5.0   \n",
       "1  The product does exactly as it should and is q...      5.0   \n",
       "2  The primary job of this device is to block the...      5.0   \n",
       "3  Nice windscreen protects my MXL mic and preven...      5.0   \n",
       "4  This pop filter is great. It looks and perform...      5.0   \n",
       "\n",
       "                                 summary  unixReviewTime   reviewTime  \n",
       "0                                   good      1393545600  02 28, 2014  \n",
       "1                                   Jake      1363392000  03 16, 2013  \n",
       "2                   It Does The Job Well      1377648000  08 28, 2013  \n",
       "3          GOOD WINDSCREEN FOR THE MONEY      1392336000  02 14, 2014  \n",
       "4  No more pops when I record my vocals.      1392940800  02 21, 2014  "
      ]
     },
     "execution_count": 3,
     "metadata": {},
     "output_type": "execute_result"
    }
   ],
   "source": [
    "df_train.head()"
   ]
  },
  {
   "cell_type": "code",
   "execution_count": 4,
   "metadata": {
    "execution": {
     "iopub.execute_input": "2023-06-09T14:52:56.364920Z",
     "iopub.status.busy": "2023-06-09T14:52:56.364920Z",
     "iopub.status.idle": "2023-06-09T14:52:56.384869Z",
     "shell.execute_reply": "2023-06-09T14:52:56.383874Z",
     "shell.execute_reply.started": "2023-06-09T14:52:56.364920Z"
    },
    "tags": []
   },
   "outputs": [
    {
     "data": {
      "text/html": [
       "<div>\n",
       "<style scoped>\n",
       "    .dataframe tbody tr th:only-of-type {\n",
       "        vertical-align: middle;\n",
       "    }\n",
       "\n",
       "    .dataframe tbody tr th {\n",
       "        vertical-align: top;\n",
       "    }\n",
       "\n",
       "    .dataframe thead th {\n",
       "        text-align: right;\n",
       "    }\n",
       "</style>\n",
       "<table border=\"1\" class=\"dataframe\">\n",
       "  <thead>\n",
       "    <tr style=\"text-align: right;\">\n",
       "      <th></th>\n",
       "      <th>reviewerID</th>\n",
       "      <th>asin</th>\n",
       "      <th>reviewerName</th>\n",
       "      <th>helpful</th>\n",
       "      <th>reviewText</th>\n",
       "      <th>overall</th>\n",
       "      <th>summary</th>\n",
       "      <th>unixReviewTime</th>\n",
       "      <th>reviewTime</th>\n",
       "    </tr>\n",
       "  </thead>\n",
       "  <tbody>\n",
       "    <tr>\n",
       "      <th>10256</th>\n",
       "      <td>A14B2YH83ZXMPP</td>\n",
       "      <td>B00JBIVXGC</td>\n",
       "      <td>Lonnie M. Adams</td>\n",
       "      <td>[0, 0]</td>\n",
       "      <td>Great, just as expected.  Thank to all.</td>\n",
       "      <td>5.0</td>\n",
       "      <td>Five Stars</td>\n",
       "      <td>1405814400</td>\n",
       "      <td>07 20, 2014</td>\n",
       "    </tr>\n",
       "    <tr>\n",
       "      <th>10257</th>\n",
       "      <td>A1RPTVW5VEOSI</td>\n",
       "      <td>B00JBIVXGC</td>\n",
       "      <td>Michael J. Edelman</td>\n",
       "      <td>[0, 0]</td>\n",
       "      <td>I've been thinking about trying the Nanoweb st...</td>\n",
       "      <td>5.0</td>\n",
       "      <td>Long life, and for some players, a good econom...</td>\n",
       "      <td>1404259200</td>\n",
       "      <td>07 2, 2014</td>\n",
       "    </tr>\n",
       "    <tr>\n",
       "      <th>10258</th>\n",
       "      <td>AWCJ12KBO5VII</td>\n",
       "      <td>B00JBIVXGC</td>\n",
       "      <td>Michael L. Knapp</td>\n",
       "      <td>[0, 0]</td>\n",
       "      <td>I have tried coated strings in the past ( incl...</td>\n",
       "      <td>4.0</td>\n",
       "      <td>Good for coated.</td>\n",
       "      <td>1405987200</td>\n",
       "      <td>07 22, 2014</td>\n",
       "    </tr>\n",
       "    <tr>\n",
       "      <th>10259</th>\n",
       "      <td>A2Z7S8B5U4PAKJ</td>\n",
       "      <td>B00JBIVXGC</td>\n",
       "      <td>Rick Langdon \"Scriptor\"</td>\n",
       "      <td>[0, 0]</td>\n",
       "      <td>Well, MADE by Elixir and DEVELOPED with Taylor...</td>\n",
       "      <td>4.0</td>\n",
       "      <td>Taylor Made</td>\n",
       "      <td>1404172800</td>\n",
       "      <td>07 1, 2014</td>\n",
       "    </tr>\n",
       "    <tr>\n",
       "      <th>10260</th>\n",
       "      <td>A2WA8TDCTGUADI</td>\n",
       "      <td>B00JBIVXGC</td>\n",
       "      <td>TheTerrorBeyond</td>\n",
       "      <td>[0, 0]</td>\n",
       "      <td>These strings are really quite good, but I wou...</td>\n",
       "      <td>4.0</td>\n",
       "      <td>These strings are really quite good, but I wou...</td>\n",
       "      <td>1405468800</td>\n",
       "      <td>07 16, 2014</td>\n",
       "    </tr>\n",
       "  </tbody>\n",
       "</table>\n",
       "</div>"
      ],
      "text/plain": [
       "           reviewerID        asin             reviewerName helpful  \\\n",
       "10256  A14B2YH83ZXMPP  B00JBIVXGC          Lonnie M. Adams  [0, 0]   \n",
       "10257   A1RPTVW5VEOSI  B00JBIVXGC       Michael J. Edelman  [0, 0]   \n",
       "10258   AWCJ12KBO5VII  B00JBIVXGC         Michael L. Knapp  [0, 0]   \n",
       "10259  A2Z7S8B5U4PAKJ  B00JBIVXGC  Rick Langdon \"Scriptor\"  [0, 0]   \n",
       "10260  A2WA8TDCTGUADI  B00JBIVXGC          TheTerrorBeyond  [0, 0]   \n",
       "\n",
       "                                              reviewText  overall  \\\n",
       "10256            Great, just as expected.  Thank to all.      5.0   \n",
       "10257  I've been thinking about trying the Nanoweb st...      5.0   \n",
       "10258  I have tried coated strings in the past ( incl...      4.0   \n",
       "10259  Well, MADE by Elixir and DEVELOPED with Taylor...      4.0   \n",
       "10260  These strings are really quite good, but I wou...      4.0   \n",
       "\n",
       "                                                 summary  unixReviewTime  \\\n",
       "10256                                         Five Stars      1405814400   \n",
       "10257  Long life, and for some players, a good econom...      1404259200   \n",
       "10258                                   Good for coated.      1405987200   \n",
       "10259                                        Taylor Made      1404172800   \n",
       "10260  These strings are really quite good, but I wou...      1405468800   \n",
       "\n",
       "        reviewTime  \n",
       "10256  07 20, 2014  \n",
       "10257   07 2, 2014  \n",
       "10258  07 22, 2014  \n",
       "10259   07 1, 2014  \n",
       "10260  07 16, 2014  "
      ]
     },
     "execution_count": 4,
     "metadata": {},
     "output_type": "execute_result"
    }
   ],
   "source": [
    "df_train.tail()"
   ]
  },
  {
   "cell_type": "code",
   "execution_count": 5,
   "metadata": {
    "execution": {
     "iopub.execute_input": "2023-06-09T14:52:59.482033Z",
     "iopub.status.busy": "2023-06-09T14:52:59.481035Z",
     "iopub.status.idle": "2023-06-09T14:52:59.529913Z",
     "shell.execute_reply": "2023-06-09T14:52:59.528162Z",
     "shell.execute_reply.started": "2023-06-09T14:52:59.482033Z"
    },
    "tags": []
   },
   "outputs": [
    {
     "name": "stdout",
     "output_type": "stream",
     "text": [
      "<class 'pandas.core.frame.DataFrame'>\n",
      "RangeIndex: 10261 entries, 0 to 10260\n",
      "Data columns (total 9 columns):\n",
      " #   Column          Non-Null Count  Dtype  \n",
      "---  ------          --------------  -----  \n",
      " 0   reviewerID      10261 non-null  object \n",
      " 1   asin            10261 non-null  object \n",
      " 2   reviewerName    10234 non-null  object \n",
      " 3   helpful         10261 non-null  object \n",
      " 4   reviewText      10254 non-null  object \n",
      " 5   overall         10261 non-null  float64\n",
      " 6   summary         10261 non-null  object \n",
      " 7   unixReviewTime  10261 non-null  int64  \n",
      " 8   reviewTime      10261 non-null  object \n",
      "dtypes: float64(1), int64(1), object(7)\n",
      "memory usage: 721.6+ KB\n"
     ]
    }
   ],
   "source": [
    "df_train.info()"
   ]
  },
  {
   "cell_type": "markdown",
   "metadata": {},
   "source": [
    "### DATA DISTRIBUTION"
   ]
  },
  {
   "cell_type": "code",
   "execution_count": 6,
   "metadata": {
    "execution": {
     "iopub.execute_input": "2023-06-09T14:53:06.420217Z",
     "iopub.status.busy": "2023-06-09T14:53:06.419911Z",
     "iopub.status.idle": "2023-06-09T14:53:06.988476Z",
     "shell.execute_reply": "2023-06-09T14:53:06.987478Z",
     "shell.execute_reply.started": "2023-06-09T14:53:06.420217Z"
    },
    "tags": []
   },
   "outputs": [
    {
     "data": {
      "image/png": "[encoded data removed]",
      "text/plain": [
       "<Figure size 576x432 with 1 Axes>"
      ]
     },
     "metadata": {
      "needs_background": "light"
     },
     "output_type": "display_data"
    }
   ],
   "source": [
    "# Count the cases by label\n",
    "cases_by_label = df_train['overall'].value_counts().sort_index()\n",
    "\n",
    "\n",
    "plt.figure(figsize=(8,6)) # Set the figure size\n",
    "plt.bar(cases_by_label.index, cases_by_label.values, color=['red', 'tab:orange', 'grey', 'green', 'tab:blue'] )\n",
    "plt.title('Distribution of Cases by Rating', fontsize=16, fontweight='bold', pad=20)\n",
    "plt.xlabel('Overall ratings', fontsize=14)\n",
    "\n",
    "plt.ylabel('Number of Cases', fontsize=14)\n",
    "# plt.xticks(cases_by_label.index, ['Non-disaster', 'Disaster'], fontsize=12)\n",
    "\n",
    "for i, v in enumerate(cases_by_label.values):\n",
    "    # plt.text(i-0.1, v+50, str(v), color='black', fontsize=12)\n",
    "    plt.text(i+0.8, v+50, str(v), color='black', fontsize=12)\n",
    "\n",
    "plt.show()"
   ]
  },
  {
   "cell_type": "markdown",
   "metadata": {
    "execution": {
     "iopub.execute_input": "2023-06-07T02:21:04.743222Z",
     "iopub.status.busy": "2023-06-07T02:21:04.743222Z",
     "iopub.status.idle": "2023-06-07T02:21:04.760208Z",
     "shell.execute_reply": "2023-06-07T02:21:04.760208Z",
     "shell.execute_reply.started": "2023-06-07T02:21:04.743222Z"
    },
    "tags": []
   },
   "source": [
    "### DATA TRANSFORM"
   ]
  },
  {
   "cell_type": "code",
   "execution_count": 7,
   "metadata": {
    "execution": {
     "iopub.execute_input": "2023-06-09T14:53:26.191731Z",
     "iopub.status.busy": "2023-06-09T14:53:26.190810Z",
     "iopub.status.idle": "2023-06-09T14:53:26.214792Z",
     "shell.execute_reply": "2023-06-09T14:53:26.213675Z",
     "shell.execute_reply.started": "2023-06-09T14:53:26.191731Z"
    },
    "tags": []
   },
   "outputs": [],
   "source": [
    "# replacing numerical values with categorical values and reduce the classes to sentiments\n",
    "\n",
    "df_train['sentiment'] = df_train.overall.replace({\n",
    "    1:'Negative',\n",
    "    2:'Negative',\n",
    "    3:'Neutral',\n",
    "    4:'Positive',\n",
    "    5:'Positive'\n",
    "})"
   ]
  },
  {
   "cell_type": "code",
   "execution_count": 15,
   "metadata": {
    "execution": {
     "iopub.execute_input": "2023-06-08T03:25:31.823681Z",
     "iopub.status.busy": "2023-06-08T03:25:31.823203Z",
     "iopub.status.idle": "2023-06-08T03:25:31.984436Z",
     "shell.execute_reply": "2023-06-08T03:25:31.983505Z",
     "shell.execute_reply.started": "2023-06-08T03:25:31.823653Z"
    },
    "tags": []
   },
   "outputs": [
    {
     "data": {
      "image/png": "[encoded data removed]",
      "text/plain": [
       "<Figure size 800x600 with 1 Axes>"
      ]
     },
     "metadata": {},
     "output_type": "display_data"
    }
   ],
   "source": [
    "# Plot the donut chart\n",
    "\n",
    "\n",
    "cases_by_label = df_train['sentiment'].value_counts().sort_index()\n",
    "\n",
    "fig, ax = plt.subplots(figsize=(8,6))\n",
    "\n",
    "# Draw a circle\n",
    "centre_circle = plt.Circle((0,0),0.3,fc='white',linewidth=1)\n",
    "fig.gca().add_artist(centre_circle)\n",
    "\n",
    "# Plot the donut chart\n",
    "ax.pie(cases_by_label, labels=cases_by_label.index.tolist(), autopct='%1.1f%%', startangle=0, radius=1.2,\n",
    "       wedgeprops=dict(width=0.7, edgecolor='w'),colors=['tab:red','tab:grey','tab:green'])\n",
    "\n",
    "plt.title('Distribution of Sentiment')\n",
    "\n",
    "plt.show()"
   ]
  },
  {
   "cell_type": "code",
   "execution_count": 8,
   "metadata": {
    "execution": {
     "iopub.execute_input": "2023-06-09T14:53:42.742324Z",
     "iopub.status.busy": "2023-06-09T14:53:42.741562Z",
     "iopub.status.idle": "2023-06-09T14:53:42.782214Z",
     "shell.execute_reply": "2023-06-09T14:53:42.780252Z",
     "shell.execute_reply.started": "2023-06-09T14:53:42.742324Z"
    },
    "tags": []
   },
   "outputs": [
    {
     "data": {
      "text/html": [
       "<div>\n",
       "<style scoped>\n",
       "    .dataframe tbody tr th:only-of-type {\n",
       "        vertical-align: middle;\n",
       "    }\n",
       "\n",
       "    .dataframe tbody tr th {\n",
       "        vertical-align: top;\n",
       "    }\n",
       "\n",
       "    .dataframe thead th {\n",
       "        text-align: right;\n",
       "    }\n",
       "</style>\n",
       "<table border=\"1\" class=\"dataframe\">\n",
       "  <thead>\n",
       "    <tr style=\"text-align: right;\">\n",
       "      <th></th>\n",
       "      <th>overall</th>\n",
       "      <th>unixReviewTime</th>\n",
       "    </tr>\n",
       "  </thead>\n",
       "  <tbody>\n",
       "    <tr>\n",
       "      <th>count</th>\n",
       "      <td>10261.000000</td>\n",
       "      <td>1.026100e+04</td>\n",
       "    </tr>\n",
       "    <tr>\n",
       "      <th>mean</th>\n",
       "      <td>4.488744</td>\n",
       "      <td>1.360606e+09</td>\n",
       "    </tr>\n",
       "    <tr>\n",
       "      <th>std</th>\n",
       "      <td>0.894642</td>\n",
       "      <td>3.779735e+07</td>\n",
       "    </tr>\n",
       "    <tr>\n",
       "      <th>min</th>\n",
       "      <td>1.000000</td>\n",
       "      <td>1.095466e+09</td>\n",
       "    </tr>\n",
       "    <tr>\n",
       "      <th>25%</th>\n",
       "      <td>4.000000</td>\n",
       "      <td>1.343434e+09</td>\n",
       "    </tr>\n",
       "    <tr>\n",
       "      <th>50%</th>\n",
       "      <td>5.000000</td>\n",
       "      <td>1.368490e+09</td>\n",
       "    </tr>\n",
       "    <tr>\n",
       "      <th>75%</th>\n",
       "      <td>5.000000</td>\n",
       "      <td>1.388966e+09</td>\n",
       "    </tr>\n",
       "    <tr>\n",
       "      <th>max</th>\n",
       "      <td>5.000000</td>\n",
       "      <td>1.405987e+09</td>\n",
       "    </tr>\n",
       "  </tbody>\n",
       "</table>\n",
       "</div>"
      ],
      "text/plain": [
       "            overall  unixReviewTime\n",
       "count  10261.000000    1.026100e+04\n",
       "mean       4.488744    1.360606e+09\n",
       "std        0.894642    3.779735e+07\n",
       "min        1.000000    1.095466e+09\n",
       "25%        4.000000    1.343434e+09\n",
       "50%        5.000000    1.368490e+09\n",
       "75%        5.000000    1.388966e+09\n",
       "max        5.000000    1.405987e+09"
      ]
     },
     "execution_count": 8,
     "metadata": {},
     "output_type": "execute_result"
    }
   ],
   "source": [
    "# summarize numeric columns\n",
    "df_train.describe()"
   ]
  },
  {
   "cell_type": "code",
   "execution_count": 9,
   "metadata": {
    "execution": {
     "iopub.execute_input": "2023-06-09T14:54:30.492253Z",
     "iopub.status.busy": "2023-06-09T14:54:30.492253Z",
     "iopub.status.idle": "2023-06-09T14:54:30.559057Z",
     "shell.execute_reply": "2023-06-09T14:54:30.558064Z",
     "shell.execute_reply.started": "2023-06-09T14:54:30.492253Z"
    },
    "tags": []
   },
   "outputs": [
    {
     "data": {
      "text/html": [
       "<div>\n",
       "<style scoped>\n",
       "    .dataframe tbody tr th:only-of-type {\n",
       "        vertical-align: middle;\n",
       "    }\n",
       "\n",
       "    .dataframe tbody tr th {\n",
       "        vertical-align: top;\n",
       "    }\n",
       "\n",
       "    .dataframe thead th {\n",
       "        text-align: right;\n",
       "    }\n",
       "</style>\n",
       "<table border=\"1\" class=\"dataframe\">\n",
       "  <thead>\n",
       "    <tr style=\"text-align: right;\">\n",
       "      <th></th>\n",
       "      <th>reviewerID</th>\n",
       "      <th>asin</th>\n",
       "      <th>reviewerName</th>\n",
       "      <th>helpful</th>\n",
       "      <th>reviewText</th>\n",
       "      <th>summary</th>\n",
       "      <th>reviewTime</th>\n",
       "      <th>sentiment</th>\n",
       "    </tr>\n",
       "  </thead>\n",
       "  <tbody>\n",
       "    <tr>\n",
       "      <th>count</th>\n",
       "      <td>10261</td>\n",
       "      <td>10261</td>\n",
       "      <td>10234</td>\n",
       "      <td>10261</td>\n",
       "      <td>10254</td>\n",
       "      <td>10261</td>\n",
       "      <td>10261</td>\n",
       "      <td>10261</td>\n",
       "    </tr>\n",
       "    <tr>\n",
       "      <th>unique</th>\n",
       "      <td>1429</td>\n",
       "      <td>900</td>\n",
       "      <td>1397</td>\n",
       "      <td>269</td>\n",
       "      <td>10254</td>\n",
       "      <td>8852</td>\n",
       "      <td>1570</td>\n",
       "      <td>3</td>\n",
       "    </tr>\n",
       "    <tr>\n",
       "      <th>top</th>\n",
       "      <td>ADH0O8UVJOT10</td>\n",
       "      <td>B003VWJ2K8</td>\n",
       "      <td>Amazon Customer</td>\n",
       "      <td>[0, 0]</td>\n",
       "      <td>Not much to write about here, but it does exac...</td>\n",
       "      <td>Great</td>\n",
       "      <td>01 22, 2013</td>\n",
       "      <td>Positive</td>\n",
       "    </tr>\n",
       "    <tr>\n",
       "      <th>freq</th>\n",
       "      <td>42</td>\n",
       "      <td>163</td>\n",
       "      <td>66</td>\n",
       "      <td>6796</td>\n",
       "      <td>1</td>\n",
       "      <td>42</td>\n",
       "      <td>40</td>\n",
       "      <td>9022</td>\n",
       "    </tr>\n",
       "  </tbody>\n",
       "</table>\n",
       "</div>"
      ],
      "text/plain": [
       "           reviewerID        asin     reviewerName helpful  \\\n",
       "count           10261       10261            10234   10261   \n",
       "unique           1429         900             1397     269   \n",
       "top     ADH0O8UVJOT10  B003VWJ2K8  Amazon Customer  [0, 0]   \n",
       "freq               42         163               66    6796   \n",
       "\n",
       "                                               reviewText summary  \\\n",
       "count                                               10254   10261   \n",
       "unique                                              10254    8852   \n",
       "top     Not much to write about here, but it does exac...   Great   \n",
       "freq                                                    1      42   \n",
       "\n",
       "         reviewTime sentiment  \n",
       "count         10261     10261  \n",
       "unique         1570         3  \n",
       "top     01 22, 2013  Positive  \n",
       "freq             40      9022  "
      ]
     },
     "execution_count": 9,
     "metadata": {},
     "output_type": "execute_result"
    }
   ],
   "source": [
    "# summarize text columns\n",
    "df_train.describe(include=['object'])"
   ]
  },
  {
   "cell_type": "code",
   "execution_count": 11,
   "metadata": {
    "execution": {
     "iopub.execute_input": "2023-06-09T14:55:12.765577Z",
     "iopub.status.busy": "2023-06-09T14:55:12.765577Z",
     "iopub.status.idle": "2023-06-09T14:55:13.173565Z",
     "shell.execute_reply": "2023-06-09T14:55:13.172565Z",
     "shell.execute_reply.started": "2023-06-09T14:55:12.765577Z"
    },
    "tags": []
   },
   "outputs": [
    {
     "name": "stdout",
     "output_type": "stream",
     "text": [
      "reviewerID         0\n",
      "asin               0\n",
      "reviewerName      27\n",
      "helpful            0\n",
      "reviewText         7\n",
      "overall            0\n",
      "summary            0\n",
      "unixReviewTime     0\n",
      "reviewTime         0\n",
      "sentiment          0\n",
      "dtype: int64\n"
     ]
    },
    {
     "data": {
      "image/png": "[encoded data removed]",
      "text/plain": [
       "<Figure size 720x576 with 1 Axes>"
      ]
     },
     "metadata": {
      "needs_background": "light"
     },
     "output_type": "display_data"
    }
   ],
   "source": [
    "# Check Misssing value\n",
    "null_vals = df_train.isnull().sum()\n",
    "print(null_vals)\n",
    "plt.figure(figsize=(10,8)) # Set the figure size\n",
    "\n",
    "# Call plot.bar() method to create the bar plot\n",
    "null_vals.plot.bar()\n",
    "\n",
    "# Set the title of the plot\n",
    "plt.title(\"Misssing Value of each Column\")\n",
    "\n",
    "# Add x and y axis labels\n",
    "plt.xlabel(\"Column Name\")\n",
    "    plt.ylabel(\"Number of Missing Value\")\n",
    "\n",
    "# Display the plot\n",
    "plt.show()"
   ]
  },
  {
   "cell_type": "markdown",
   "metadata": {
    "execution": {
     "iopub.execute_input": "2023-05-24T14:41:52.652736Z",
     "iopub.status.busy": "2023-05-24T14:41:52.651716Z",
     "iopub.status.idle": "2023-05-24T14:41:52.662725Z",
     "shell.execute_reply": "2023-05-24T14:41:52.662725Z",
     "shell.execute_reply.started": "2023-05-24T14:41:52.651716Z"
    },
    "tags": []
   },
   "source": [
    "## Observations:\n",
    "\n",
    "* The 'reviewerName' column contains 27 missing labels, and the 'reviewText' column contains 7 missing values. \n",
    "* No missing value in 'summary' column. we will try to build model with 'summary' as input first to see the performance.\n",
    "* The training dataset has an imbalanced distribution of negative, neutral, and positive cases, with a ratio of 4.6:7.5:87.9. If we do not balance the data, the model may simply predict all cases as positive, resulting in an accuracy of 87.9%."
   ]
  },
  {
   "cell_type": "markdown",
   "metadata": {},
   "source": [
    "### DATA CLEANING\n",
    "\n"
   ]
  },
  {
   "cell_type": "markdown",
   "metadata": {},
   "source": [
    "Replace missing values in 'reviewText' column to empty string ''"
   ]
  },
  {
   "cell_type": "code",
   "execution_count": 12,
   "metadata": {
    "ExecutionIndicator": {
     "show": true
    },
    "execution": {
     "iopub.execute_input": "2023-06-09T15:22:23.638670Z",
     "iopub.status.busy": "2023-06-09T15:22:23.638368Z",
     "iopub.status.idle": "2023-06-09T15:22:23.666260Z",
     "shell.execute_reply": "2023-06-09T15:22:23.664814Z",
     "shell.execute_reply.started": "2023-06-09T15:22:23.638670Z"
    },
    "tags": []
   },
   "outputs": [
    {
     "data": {
      "text/html": [
       "<div>\n",
       "<style scoped>\n",
       "    .dataframe tbody tr th:only-of-type {\n",
       "        vertical-align: middle;\n",
       "    }\n",
       "\n",
       "    .dataframe tbody tr th {\n",
       "        vertical-align: top;\n",
       "    }\n",
       "\n",
       "    .dataframe thead th {\n",
       "        text-align: right;\n",
       "    }\n",
       "</style>\n",
       "<table border=\"1\" class=\"dataframe\">\n",
       "  <thead>\n",
       "    <tr style=\"text-align: right;\">\n",
       "      <th></th>\n",
       "      <th>reviewerID</th>\n",
       "      <th>asin</th>\n",
       "      <th>reviewerName</th>\n",
       "      <th>helpful</th>\n",
       "      <th>reviewText</th>\n",
       "      <th>overall</th>\n",
       "      <th>summary</th>\n",
       "      <th>unixReviewTime</th>\n",
       "      <th>reviewTime</th>\n",
       "      <th>sentiment</th>\n",
       "    </tr>\n",
       "  </thead>\n",
       "  <tbody>\n",
       "    <tr>\n",
       "      <th>0</th>\n",
       "      <td>A2IBPI20UZIR0U</td>\n",
       "      <td>1384719342</td>\n",
       "      <td>cassandra tu \"Yeah, well, that's just like, u...</td>\n",
       "      <td>[0, 0]</td>\n",
       "      <td>Not much to write about here, but it does exac...</td>\n",
       "      <td>5.0</td>\n",
       "      <td>good</td>\n",
       "      <td>1393545600</td>\n",
       "      <td>02 28, 2014</td>\n",
       "      <td>Positive</td>\n",
       "    </tr>\n",
       "    <tr>\n",
       "      <th>1</th>\n",
       "      <td>A14VAT5EAX3D9S</td>\n",
       "      <td>1384719342</td>\n",
       "      <td>Jake</td>\n",
       "      <td>[13, 14]</td>\n",
       "      <td>The product does exactly as it should and is q...</td>\n",
       "      <td>5.0</td>\n",
       "      <td>Jake</td>\n",
       "      <td>1363392000</td>\n",
       "      <td>03 16, 2013</td>\n",
       "      <td>Positive</td>\n",
       "    </tr>\n",
       "    <tr>\n",
       "      <th>2</th>\n",
       "      <td>A195EZSQDW3E21</td>\n",
       "      <td>1384719342</td>\n",
       "      <td>Rick Bennette \"Rick Bennette\"</td>\n",
       "      <td>[1, 1]</td>\n",
       "      <td>The primary job of this device is to block the...</td>\n",
       "      <td>5.0</td>\n",
       "      <td>It Does The Job Well</td>\n",
       "      <td>1377648000</td>\n",
       "      <td>08 28, 2013</td>\n",
       "      <td>Positive</td>\n",
       "    </tr>\n",
       "    <tr>\n",
       "      <th>3</th>\n",
       "      <td>A2C00NNG1ZQQG2</td>\n",
       "      <td>1384719342</td>\n",
       "      <td>RustyBill \"Sunday Rocker\"</td>\n",
       "      <td>[0, 0]</td>\n",
       "      <td>Nice windscreen protects my MXL mic and preven...</td>\n",
       "      <td>5.0</td>\n",
       "      <td>GOOD WINDSCREEN FOR THE MONEY</td>\n",
       "      <td>1392336000</td>\n",
       "      <td>02 14, 2014</td>\n",
       "      <td>Positive</td>\n",
       "    </tr>\n",
       "    <tr>\n",
       "      <th>4</th>\n",
       "      <td>A94QU4C90B1AX</td>\n",
       "      <td>1384719342</td>\n",
       "      <td>SEAN MASLANKA</td>\n",
       "      <td>[0, 0]</td>\n",
       "      <td>This pop filter is great. It looks and perform...</td>\n",
       "      <td>5.0</td>\n",
       "      <td>No more pops when I record my vocals.</td>\n",
       "      <td>1392940800</td>\n",
       "      <td>02 21, 2014</td>\n",
       "      <td>Positive</td>\n",
       "    </tr>\n",
       "  </tbody>\n",
       "</table>\n",
       "</div>"
      ],
      "text/plain": [
       "       reviewerID        asin  \\\n",
       "0  A2IBPI20UZIR0U  1384719342   \n",
       "1  A14VAT5EAX3D9S  1384719342   \n",
       "2  A195EZSQDW3E21  1384719342   \n",
       "3  A2C00NNG1ZQQG2  1384719342   \n",
       "4   A94QU4C90B1AX  1384719342   \n",
       "\n",
       "                                       reviewerName   helpful  \\\n",
       "0  cassandra tu \"Yeah, well, that's just like, u...    [0, 0]   \n",
       "1                                              Jake  [13, 14]   \n",
       "2                     Rick Bennette \"Rick Bennette\"    [1, 1]   \n",
       "3                         RustyBill \"Sunday Rocker\"    [0, 0]   \n",
       "4                                     SEAN MASLANKA    [0, 0]   \n",
       "\n",
       "                                          reviewText  overall  \\\n",
       "0  Not much to write about here, but it does exac...      5.0   \n",
       "1  The product does exactly as it should and is q...      5.0   \n",
       "2  The primary job of this device is to block the...      5.0   \n",
       "3  Nice windscreen protects my MXL mic and preven...      5.0   \n",
       "4  This pop filter is great. It looks and perform...      5.0   \n",
       "\n",
       "                                 summary  unixReviewTime   reviewTime  \\\n",
       "0                                   good      1393545600  02 28, 2014   \n",
       "1                                   Jake      1363392000  03 16, 2013   \n",
       "2                   It Does The Job Well      1377648000  08 28, 2013   \n",
       "3          GOOD WINDSCREEN FOR THE MONEY      1392336000  02 14, 2014   \n",
       "4  No more pops when I record my vocals.      1392940800  02 21, 2014   \n",
       "\n",
       "  sentiment  \n",
       "0  Positive  \n",
       "1  Positive  \n",
       "2  Positive  \n",
       "3  Positive  \n",
       "4  Positive  "
      ]
     },
     "execution_count": 12,
     "metadata": {},
     "output_type": "execute_result"
    }
   ],
   "source": [
    "# replace null values in reviewText column with empty strings\n",
    "df_train['reviewText'].fillna('', inplace=True)\n",
    "\n",
    "df_train.head()"
   ]
  },
  {
   "cell_type": "markdown",
   "metadata": {},
   "source": [
    "Clean text in 'summary' column"
   ]
  },
  {
   "cell_type": "code",
   "execution_count": 13,
   "metadata": {
    "ExecutionIndicator": {
     "show": true
    },
    "execution": {
     "iopub.execute_input": "2023-06-09T15:23:52.546156Z",
     "iopub.status.busy": "2023-06-09T15:23:52.545662Z",
     "iopub.status.idle": "2023-06-09T15:23:53.908663Z",
     "shell.execute_reply": "2023-06-09T15:23:53.907855Z",
     "shell.execute_reply.started": "2023-06-09T15:23:52.546156Z"
    },
    "tags": []
   },
   "outputs": [],
   "source": [
    "warnings.filterwarnings(\"ignore\", category=UserWarning)\n",
    "# download stopwords dictionary\n",
    "# nltk.download('stopwords')\n",
    "\n",
    "# create a set of stopwords\n",
    "stop_words = set(stopwords.words('english'))\n",
    "\n",
    "\n",
    "# define function to clean text\n",
    "def clean_text(text):\n",
    "    # remove emojis\n",
    "    emoji_pattern = re.compile(\"[\"\n",
    "                               u\"\\U0001F600-\\U0001F64F\"  # emoticons\n",
    "                               u\"\\U0001F300-\\U0001F5FF\"  # symbols & pictographs\n",
    "                               u\"\\U0001F680-\\U0001F6FF\"  # transport & map symbols\n",
    "                               u\"\\U0001F1E0-\\U0001F1FF\"  # flags (iOS)\n",
    "                               u\"\\U00002702-\\U000027B0\"\n",
    "                               u\"\\U000024C2-\\U0001F251\"\n",
    "                               \"]+\", flags=re.UNICODE)\n",
    "    \n",
    "    # remove HTML tags\n",
    "    text = BeautifulSoup(text, \"html.parser\").get_text()\n",
    "    \n",
    "    # remove urls\n",
    "    text = re.sub(r\"http\\S+\", \"\", text)\n",
    "\n",
    "    # remove <> tags\n",
    "    text = re.sub(r\"</?[a-z]+>\", \"\", text)\n",
    "\n",
    "    # convert text to lowercase\n",
    "    text = text.lower()\n",
    "\n",
    "    # remove stopwords\n",
    "    # text = ' '.join(word for word in text.split() if word not in stop_words)\n",
    "\n",
    "    return text\n",
    "\n",
    "# apply the function to the 'text' column and save the cleaned text in 'summary' column\n",
    "df_train['text_new'] = df_train['summary'].apply(clean_text)\n"
   ]
  },
  {
   "cell_type": "code",
   "execution_count": 14,
   "metadata": {
    "execution": {
     "iopub.execute_input": "2023-06-09T15:23:58.043382Z",
     "iopub.status.busy": "2023-06-09T15:23:58.041801Z",
     "iopub.status.idle": "2023-06-09T15:23:58.069311Z",
     "shell.execute_reply": "2023-06-09T15:23:58.068313Z",
     "shell.execute_reply.started": "2023-06-09T15:23:58.043382Z"
    },
    "tags": []
   },
   "outputs": [
    {
     "data": {
      "text/html": [
       "<div>\n",
       "<style scoped>\n",
       "    .dataframe tbody tr th:only-of-type {\n",
       "        vertical-align: middle;\n",
       "    }\n",
       "\n",
       "    .dataframe tbody tr th {\n",
       "        vertical-align: top;\n",
       "    }\n",
       "\n",
       "    .dataframe thead th {\n",
       "        text-align: right;\n",
       "    }\n",
       "</style>\n",
       "<table border=\"1\" class=\"dataframe\">\n",
       "  <thead>\n",
       "    <tr style=\"text-align: right;\">\n",
       "      <th></th>\n",
       "      <th>reviewerID</th>\n",
       "      <th>asin</th>\n",
       "      <th>reviewerName</th>\n",
       "      <th>helpful</th>\n",
       "      <th>reviewText</th>\n",
       "      <th>overall</th>\n",
       "      <th>summary</th>\n",
       "      <th>unixReviewTime</th>\n",
       "      <th>reviewTime</th>\n",
       "      <th>sentiment</th>\n",
       "      <th>text_new</th>\n",
       "    </tr>\n",
       "  </thead>\n",
       "  <tbody>\n",
       "    <tr>\n",
       "      <th>0</th>\n",
       "      <td>A2IBPI20UZIR0U</td>\n",
       "      <td>1384719342</td>\n",
       "      <td>cassandra tu \"Yeah, well, that's just like, u...</td>\n",
       "      <td>[0, 0]</td>\n",
       "      <td>Not much to write about here, but it does exac...</td>\n",
       "      <td>5.0</td>\n",
       "      <td>good</td>\n",
       "      <td>1393545600</td>\n",
       "      <td>02 28, 2014</td>\n",
       "      <td>Positive</td>\n",
       "      <td>good</td>\n",
       "    </tr>\n",
       "    <tr>\n",
       "      <th>1</th>\n",
       "      <td>A14VAT5EAX3D9S</td>\n",
       "      <td>1384719342</td>\n",
       "      <td>Jake</td>\n",
       "      <td>[13, 14]</td>\n",
       "      <td>The product does exactly as it should and is q...</td>\n",
       "      <td>5.0</td>\n",
       "      <td>Jake</td>\n",
       "      <td>1363392000</td>\n",
       "      <td>03 16, 2013</td>\n",
       "      <td>Positive</td>\n",
       "      <td>jake</td>\n",
       "    </tr>\n",
       "    <tr>\n",
       "      <th>2</th>\n",
       "      <td>A195EZSQDW3E21</td>\n",
       "      <td>1384719342</td>\n",
       "      <td>Rick Bennette \"Rick Bennette\"</td>\n",
       "      <td>[1, 1]</td>\n",
       "      <td>The primary job of this device is to block the...</td>\n",
       "      <td>5.0</td>\n",
       "      <td>It Does The Job Well</td>\n",
       "      <td>1377648000</td>\n",
       "      <td>08 28, 2013</td>\n",
       "      <td>Positive</td>\n",
       "      <td>it does the job well</td>\n",
       "    </tr>\n",
       "    <tr>\n",
       "      <th>3</th>\n",
       "      <td>A2C00NNG1ZQQG2</td>\n",
       "      <td>1384719342</td>\n",
       "      <td>RustyBill \"Sunday Rocker\"</td>\n",
       "      <td>[0, 0]</td>\n",
       "      <td>Nice windscreen protects my MXL mic and preven...</td>\n",
       "      <td>5.0</td>\n",
       "      <td>GOOD WINDSCREEN FOR THE MONEY</td>\n",
       "      <td>1392336000</td>\n",
       "      <td>02 14, 2014</td>\n",
       "      <td>Positive</td>\n",
       "      <td>good windscreen for the money</td>\n",
       "    </tr>\n",
       "    <tr>\n",
       "      <th>4</th>\n",
       "      <td>A94QU4C90B1AX</td>\n",
       "      <td>1384719342</td>\n",
       "      <td>SEAN MASLANKA</td>\n",
       "      <td>[0, 0]</td>\n",
       "      <td>This pop filter is great. It looks and perform...</td>\n",
       "      <td>5.0</td>\n",
       "      <td>No more pops when I record my vocals.</td>\n",
       "      <td>1392940800</td>\n",
       "      <td>02 21, 2014</td>\n",
       "      <td>Positive</td>\n",
       "      <td>no more pops when i record my vocals.</td>\n",
       "    </tr>\n",
       "  </tbody>\n",
       "</table>\n",
       "</div>"
      ],
      "text/plain": [
       "       reviewerID        asin  \\\n",
       "0  A2IBPI20UZIR0U  1384719342   \n",
       "1  A14VAT5EAX3D9S  1384719342   \n",
       "2  A195EZSQDW3E21  1384719342   \n",
       "3  A2C00NNG1ZQQG2  1384719342   \n",
       "4   A94QU4C90B1AX  1384719342   \n",
       "\n",
       "                                       reviewerName   helpful  \\\n",
       "0  cassandra tu \"Yeah, well, that's just like, u...    [0, 0]   \n",
       "1                                              Jake  [13, 14]   \n",
       "2                     Rick Bennette \"Rick Bennette\"    [1, 1]   \n",
       "3                         RustyBill \"Sunday Rocker\"    [0, 0]   \n",
       "4                                     SEAN MASLANKA    [0, 0]   \n",
       "\n",
       "                                          reviewText  overall  \\\n",
       "0  Not much to write about here, but it does exac...      5.0   \n",
       "1  The product does exactly as it should and is q...      5.0   \n",
       "2  The primary job of this device is to block the...      5.0   \n",
       "3  Nice windscreen protects my MXL mic and preven...      5.0   \n",
       "4  This pop filter is great. It looks and perform...      5.0   \n",
       "\n",
       "                                 summary  unixReviewTime   reviewTime  \\\n",
       "0                                   good      1393545600  02 28, 2014   \n",
       "1                                   Jake      1363392000  03 16, 2013   \n",
       "2                   It Does The Job Well      1377648000  08 28, 2013   \n",
       "3          GOOD WINDSCREEN FOR THE MONEY      1392336000  02 14, 2014   \n",
       "4  No more pops when I record my vocals.      1392940800  02 21, 2014   \n",
       "\n",
       "  sentiment                               text_new  \n",
       "0  Positive                                   good  \n",
       "1  Positive                                   jake  \n",
       "2  Positive                   it does the job well  \n",
       "3  Positive          good windscreen for the money  \n",
       "4  Positive  no more pops when i record my vocals.  "
      ]
     },
     "execution_count": 14,
     "metadata": {},
     "output_type": "execute_result"
    }
   ],
   "source": [
    "df_train.head()"
   ]
  },
  {
   "cell_type": "code",
   "execution_count": 15,
   "metadata": {
    "ExecutionIndicator": {
     "show": true
    },
    "execution": {
     "iopub.execute_input": "2023-06-09T15:24:43.286853Z",
     "iopub.status.busy": "2023-06-09T15:24:43.286853Z",
     "iopub.status.idle": "2023-06-09T15:24:43.301812Z",
     "shell.execute_reply": "2023-06-09T15:24:43.300925Z",
     "shell.execute_reply.started": "2023-06-09T15:24:43.286853Z"
    },
    "tags": []
   },
   "outputs": [
    {
     "name": "stdout",
     "output_type": "stream",
     "text": [
      "summary     GOOD WINDSCREEN FOR THE MONEY\n",
      "text_new    good windscreen for the money\n",
      "Name: 3, dtype: object\n"
     ]
    }
   ],
   "source": [
    "# Check cleaning result\n",
    "pd.set_option('display.max_colwidth', None)\n",
    "print(df_train.loc[3, ['summary', 'text_new']])"
   ]
  },
  {
   "cell_type": "code",
   "execution_count": 16,
   "metadata": {
    "ExecutionIndicator": {
     "show": true
    },
    "execution": {
     "iopub.execute_input": "2023-06-09T15:25:06.031145Z",
     "iopub.status.busy": "2023-06-09T15:25:06.031145Z",
     "iopub.status.idle": "2023-06-09T15:25:06.087982Z",
     "shell.execute_reply": "2023-06-09T15:25:06.087018Z",
     "shell.execute_reply.started": "2023-06-09T15:25:06.031145Z"
    },
    "tags": []
   },
   "outputs": [
    {
     "data": {
      "text/plain": [
       "['good', 'windscreen', 'for', 'the', 'money']"
      ]
     },
     "execution_count": 16,
     "metadata": {},
     "output_type": "execute_result"
    }
   ],
   "source": [
    "# word_tokenize(sentence)\n",
    "word_tokenize(df_train.loc[3, ['text_new']][0])"
   ]
  },
  {
   "cell_type": "markdown",
   "metadata": {},
   "source": [
    "## DATA PROCESSING"
   ]
  },
  {
   "cell_type": "markdown",
   "metadata": {},
   "source": [
    "### Balance the data"
   ]
  },
  {
   "cell_type": "code",
   "execution_count": 17,
   "metadata": {
    "ExecutionIndicator": {
     "show": true
    },
    "execution": {
     "iopub.execute_input": "2023-06-09T15:26:36.917441Z",
     "iopub.status.busy": "2023-06-09T15:26:36.917441Z",
     "iopub.status.idle": "2023-06-09T15:26:36.964564Z",
     "shell.execute_reply": "2023-06-09T15:26:36.962605Z",
     "shell.execute_reply.started": "2023-06-09T15:26:36.917441Z"
    },
    "tags": []
   },
   "outputs": [
    {
     "data": {
      "text/plain": [
       "Positive    0.383889\n",
       "Neutral     0.383889\n",
       "Negative    0.232223\n",
       "Name: sentiment, dtype: float64"
      ]
     },
     "execution_count": 17,
     "metadata": {},
     "output_type": "execute_result"
    }
   ],
   "source": [
    "from sklearn.utils import resample\n",
    "\n",
    "# Separating the dataframe by sentiment class\n",
    "df_positive = df_train[df_train['sentiment'] == 'Positive']\n",
    "df_negative = df_train[df_train['sentiment'] == 'Negative']\n",
    "df_neutral = df_train[df_train['sentiment'] == 'Neutral']\n",
    "\n",
    "\n",
    "# Downsampling the 'Positive' class to match the size of the 'Negative' and 'Neutral' classes\n",
    "df_positive_downsampled = resample(df_positive, replace=False, n_samples=len(df_neutral))\n",
    "\n",
    "# Combining the downsampled 'Positive' class with the 'Negative' and 'Neutral' classes\n",
    "df_balanced = pd.concat([df_positive_downsampled, df_negative, df_neutral])\n",
    "\n",
    "# Checking the new class proportions\n",
    "df_balanced['sentiment'].value_counts(normalize=True)"
   ]
  },
  {
   "cell_type": "markdown",
   "metadata": {},
   "source": [
    "### Word corpus and Embedding Dictionary"
   ]
  },
  {
   "cell_type": "code",
   "execution_count": 18,
   "metadata": {
    "ExecutionIndicator": {
     "show": true
    },
    "execution": {
     "iopub.execute_input": "2023-06-09T15:27:20.798383Z",
     "iopub.status.busy": "2023-06-09T15:27:20.798383Z",
     "iopub.status.idle": "2023-06-09T15:27:21.691608Z",
     "shell.execute_reply": "2023-06-09T15:27:21.690609Z",
     "shell.execute_reply.started": "2023-06-09T15:27:20.798383Z"
    },
    "tags": []
   },
   "outputs": [
    {
     "name": "stderr",
     "output_type": "stream",
     "text": [
      "[nltk_data] Downloading package punkt to\n",
      "[nltk_data]     C:\\Users\\emili8\\AppData\\Roaming\\nltk_data...\n",
      "[nltk_data]   Package punkt is already up-to-date!\n",
      "100%|████████████████████████████████████████████████████████████████████████████| 2011/2011 [00:00<00:00, 5411.90it/s]\n"
     ]
    }
   ],
   "source": [
    "# Create Words Tokens\n",
    "import nltk\n",
    "nltk.download('punkt')\n",
    "\n",
    "# Tokenize the text in the 'summary' column and save them as a list of lists\n",
    "def create_tokens(dataset):\n",
    "    \n",
    "    tmp_tokens =[]\n",
    "\n",
    "    for sentence in tqdm(dataset['text_new']):\n",
    "        # words = [ word.lower() for word in word_tokenize(sentence) if (word.isalpha() == 1 ) & (word not in stop_words) ]\n",
    "        words = [ word.lower() for word in word_tokenize(sentence) if (word.isalpha() == 1) ]\n",
    "        tmp_tokens.append(words)\n",
    "    \n",
    "    return tmp_tokens\n",
    "    \n",
    "\n",
    "tokens = create_tokens(df_balanced)\n"
   ]
  },
  {
   "cell_type": "code",
   "execution_count": 19,
   "metadata": {
    "execution": {
     "iopub.execute_input": "2023-06-09T15:27:28.868609Z",
     "iopub.status.busy": "2023-06-09T15:27:28.867413Z",
     "iopub.status.idle": "2023-06-09T15:27:28.882372Z",
     "shell.execute_reply": "2023-06-09T15:27:28.881579Z",
     "shell.execute_reply.started": "2023-06-09T15:27:28.868609Z"
    },
    "tags": []
   },
   "outputs": [
    {
     "data": {
      "text/plain": [
       "['excellent',\n",
       " 'design',\n",
       " 'simple',\n",
       " 'solution',\n",
       " 'for',\n",
       " 'those',\n",
       " 'who',\n",
       " 'hate',\n",
       " 'strap',\n",
       " 'locks']"
      ]
     },
     "execution_count": 19,
     "metadata": {},
     "output_type": "execute_result"
    }
   ],
   "source": [
    "tokens[3]"
   ]
  },
  {
   "cell_type": "code",
   "execution_count": 20,
   "metadata": {
    "execution": {
     "iopub.execute_input": "2023-06-09T15:28:39.667228Z",
     "iopub.status.busy": "2023-06-09T15:28:39.665373Z",
     "iopub.status.idle": "2023-06-09T15:28:39.989589Z",
     "shell.execute_reply": "2023-06-09T15:28:39.987594Z",
     "shell.execute_reply.started": "2023-06-09T15:28:39.666524Z"
    },
    "tags": []
   },
   "outputs": [
    {
     "data": {
      "image/png": "[encoded data removed]",
      "text/plain": [
       "<Figure size 432x288 with 1 Axes>"
      ]
     },
     "metadata": {
      "needs_background": "light"
     },
     "output_type": "display_data"
    }
   ],
   "source": [
    "\n",
    "# Get length of token in 'tokens'\n",
    "token_lengths = [len(token) for token in tokens] # get the length of each element in 'tokens'\n",
    "df_lengths = pd.DataFrame(token_lengths, columns=['length']) # create a DataFrame with the lengths\n",
    "\n",
    "plt.hist(df_lengths['length'], bins=20)\n",
    "\n",
    "plt.title('Lengths of Tokens')\n",
    "plt.xlabel('Length')\n",
    "plt.ylabel('Frequency')\n",
    "\n",
    "plt.show()\n",
    "\n"
   ]
  },
  {
   "cell_type": "code",
   "execution_count": 21,
   "metadata": {
    "execution": {
     "iopub.execute_input": "2023-06-09T15:41:25.724874Z",
     "iopub.status.busy": "2023-06-09T15:41:25.723907Z",
     "iopub.status.idle": "2023-06-09T15:41:25.752372Z",
     "shell.execute_reply": "2023-06-09T15:41:25.751377Z",
     "shell.execute_reply.started": "2023-06-09T15:41:25.724874Z"
    },
    "tags": []
   },
   "outputs": [
    {
     "name": "stdout",
     "output_type": "stream",
     "text": [
      "            length\n",
      "count  2011.000000\n",
      "mean      4.488812\n",
      "std       2.872108\n",
      "min       0.000000\n",
      "25%       2.000000\n",
      "50%       4.000000\n",
      "75%       6.000000\n",
      "max      23.000000\n"
     ]
    }
   ],
   "source": [
    "summary = df_lengths.describe()\n",
    "\n",
    "print(summary)"
   ]
  },
  {
   "cell_type": "code",
   "execution_count": 22,
   "metadata": {
    "execution": {
     "iopub.execute_input": "2023-06-09T15:41:33.386237Z",
     "iopub.status.busy": "2023-06-09T15:41:33.385241Z",
     "iopub.status.idle": "2023-06-09T15:42:50.180723Z",
     "shell.execute_reply": "2023-06-09T15:42:50.179816Z",
     "shell.execute_reply.started": "2023-06-09T15:41:33.386237Z"
    },
    "tags": []
   },
   "outputs": [],
   "source": [
    "# Create Embedding Dictionary\n",
    "\n",
    "embedding_dict={}\n",
    "with open('./data/glove.twitter.27B.100d.txt','r', encoding='utf8') as f:\n",
    "    for line in f:\n",
    "        values=line.split()\n",
    "        word=values[0]\n",
    "        vectors=np.asarray(values[1:],'float32')\n",
    "        embedding_dict[word]=vectors\n",
    "f.close()"
   ]
  },
  {
   "cell_type": "code",
   "execution_count": 23,
   "metadata": {
    "ExecutionIndicator": {
     "show": true
    },
    "execution": {
     "iopub.execute_input": "2023-06-09T15:42:50.183715Z",
     "iopub.status.busy": "2023-06-09T15:42:50.183715Z",
     "iopub.status.idle": "2023-06-09T15:42:50.243026Z",
     "shell.execute_reply": "2023-06-09T15:42:50.241423Z",
     "shell.execute_reply.started": "2023-06-09T15:42:50.183715Z"
    },
    "tags": []
   },
   "outputs": [],
   "source": [
    "# Tokenize : break the sentence into single word/token\n",
    "# texts_to_sequences : convert tokenized word into an encoded sequence\n",
    "# pad_sequence : change the length of sequence by either adding or truncating\n",
    "\n",
    "MAX_LEN = 6\n",
    "tokenizer = Tokenizer()\n",
    "tokenizer.fit_on_texts(tokens)\n",
    "\n",
    "sequences = tokenizer.texts_to_sequences(tokens)\n",
    "\n",
    "corpus_pad = pad_sequences(sequences, maxlen=MAX_LEN, truncating='post', padding='post')"
   ]
  },
  {
   "cell_type": "code",
   "execution_count": 96,
   "metadata": {
    "execution": {
     "iopub.execute_input": "2023-06-08T14:33:04.881462Z",
     "iopub.status.busy": "2023-06-08T14:33:04.880987Z",
     "iopub.status.idle": "2023-06-08T14:33:04.886924Z",
     "shell.execute_reply": "2023-06-08T14:33:04.885983Z",
     "shell.execute_reply.started": "2023-06-08T14:33:04.881429Z"
    },
    "tags": []
   },
   "outputs": [
    {
     "name": "stdout",
     "output_type": "stream",
     "text": [
      "Number of unique words : 1825\n"
     ]
    }
   ],
   "source": [
    "# Unique words present\n",
    "word_index = tokenizer.word_index\n",
    "print(f\"Number of unique words : {len(word_index)}\")"
   ]
  },
  {
   "cell_type": "code",
   "execution_count": 97,
   "metadata": {
    "execution": {
     "iopub.execute_input": "2023-06-08T14:33:08.346193Z",
     "iopub.status.busy": "2023-06-08T14:33:08.345664Z",
     "iopub.status.idle": "2023-06-08T14:33:08.351854Z",
     "shell.execute_reply": "2023-06-08T14:33:08.350987Z",
     "shell.execute_reply.started": "2023-06-08T14:33:08.346161Z"
    },
    "tags": []
   },
   "outputs": [
    {
     "data": {
      "text/plain": [
       "(2011, 6)"
      ]
     },
     "execution_count": 97,
     "metadata": {},
     "output_type": "execute_result"
    }
   ],
   "source": [
    "corpus_pad.shape"
   ]
  },
  {
   "cell_type": "code",
   "execution_count": 66,
   "metadata": {
    "execution": {
     "iopub.execute_input": "2023-06-08T13:54:35.760333Z",
     "iopub.status.busy": "2023-06-08T13:54:35.759824Z",
     "iopub.status.idle": "2023-06-08T13:54:35.766526Z",
     "shell.execute_reply": "2023-06-08T13:54:35.765660Z",
     "shell.execute_reply.started": "2023-06-08T13:54:35.760297Z"
    },
    "tags": []
   },
   "outputs": [
    {
     "data": {
      "text/plain": [
       "array([[ 146,   29,   47, ...,   34,    1,  407],\n",
       "       [  34,    4,    2, ...,    0,    0,    0],\n",
       "       [   2,   90,   30, ...,    0,    0,    0],\n",
       "       ...,\n",
       "       [  71,   21,   69, ...,    6,  747,   23],\n",
       "       [ 916, 1997,   12, ...,  319,   20,  105],\n",
       "       [5140,    2,   34, ...,  118, 1635,    5]], dtype=int32)"
      ]
     },
     "execution_count": 66,
     "metadata": {},
     "output_type": "execute_result"
    }
   ],
   "source": [
    "corpus_pad"
   ]
  },
  {
   "cell_type": "code",
   "execution_count": 98,
   "metadata": {
    "execution": {
     "iopub.execute_input": "2023-06-08T14:33:14.650068Z",
     "iopub.status.busy": "2023-06-08T14:33:14.649544Z",
     "iopub.status.idle": "2023-06-08T14:33:14.655555Z",
     "shell.execute_reply": "2023-06-08T14:33:14.654780Z",
     "shell.execute_reply.started": "2023-06-08T14:33:14.650033Z"
    },
    "tags": []
   },
   "outputs": [
    {
     "data": {
      "text/plain": [
       "[3]"
      ]
     },
     "execution_count": 98,
     "metadata": {},
     "output_type": "execute_result"
    }
   ],
   "source": [
    "sequences[0]"
   ]
  },
  {
   "cell_type": "code",
   "execution_count": 99,
   "metadata": {
    "execution": {
     "iopub.execute_input": "2023-06-08T14:33:18.690204Z",
     "iopub.status.busy": "2023-06-08T14:33:18.689721Z",
     "iopub.status.idle": "2023-06-08T14:33:18.705215Z",
     "shell.execute_reply": "2023-06-08T14:33:18.704502Z",
     "shell.execute_reply.started": "2023-06-08T14:33:18.690177Z"
    },
    "tags": []
   },
   "outputs": [
    {
     "name": "stderr",
     "output_type": "stream",
     "text": [
      "100%|██████████| 1825/1825 [00:00<00:00, 268187.40it/s]\n"
     ]
    }
   ],
   "source": [
    "# Creating embedding matrix with GloVe using enbedding_dict we created above\n",
    "num_words=len(word_index)+1\n",
    "embedding_matrix=np.zeros((num_words,100))\n",
    "\n",
    "for word,i in tqdm(word_index.items()):\n",
    "    if i > num_words:\n",
    "        continue\n",
    "    \n",
    "    emb_vec=embedding_dict.get(word)\n",
    "    if emb_vec is not None:\n",
    "        embedding_matrix[i]=emb_vec"
   ]
  },
  {
   "cell_type": "markdown",
   "metadata": {},
   "source": [
    "### Split data into Train & Test"
   ]
  },
  {
   "cell_type": "code",
   "execution_count": 100,
   "metadata": {
    "ExecutionIndicator": {
     "show": true
    },
    "execution": {
     "iopub.execute_input": "2023-06-08T14:33:26.537540Z",
     "iopub.status.busy": "2023-06-08T14:33:26.537055Z",
     "iopub.status.idle": "2023-06-08T14:33:26.545029Z",
     "shell.execute_reply": "2023-06-08T14:33:26.544143Z",
     "shell.execute_reply.started": "2023-06-08T14:33:26.537505Z"
    },
    "tags": []
   },
   "outputs": [
    {
     "name": "stdout",
     "output_type": "stream",
     "text": [
      "Shape of X train (1508, 6)\n",
      "Shape of X Validation  (503, 6)\n",
      "Shape of Y train (1508,)\n",
      "Shape of Y Validation  (503,)\n"
     ]
    }
   ],
   "source": [
    "X_train,X_test,y_train,y_test = train_test_split(corpus_pad, df_balanced['sentiment'].values, test_size = 0.25, random_state = 0 )\n",
    "\n",
    "print('Shape of X train',X_train.shape)\n",
    "print(\"Shape of X Validation \",X_test.shape)\n",
    "\n",
    "print('Shape of Y train',y_train.shape)\n",
    "print(\"Shape of Y Validation \",y_test.shape)"
   ]
  },
  {
   "cell_type": "code",
   "execution_count": 97,
   "metadata": {
    "execution": {
     "iopub.execute_input": "2023-06-07T13:06:21.067342Z",
     "iopub.status.busy": "2023-06-07T13:06:21.066343Z",
     "iopub.status.idle": "2023-06-07T13:06:21.081302Z",
     "shell.execute_reply": "2023-06-07T13:06:21.080377Z",
     "shell.execute_reply.started": "2023-06-07T13:06:21.067342Z"
    },
    "tags": []
   },
   "outputs": [
    {
     "data": {
      "text/plain": [
       "array(['Positive', 'Positive', 'Positive', ..., 'Positive', 'Positive',\n",
       "       'Positive'], dtype=object)"
      ]
     },
     "execution_count": 97,
     "metadata": {},
     "output_type": "execute_result"
    }
   ],
   "source": [
    "y_train"
   ]
  },
  {
   "cell_type": "code",
   "execution_count": 101,
   "metadata": {
    "execution": {
     "iopub.execute_input": "2023-06-08T14:33:36.186642Z",
     "iopub.status.busy": "2023-06-08T14:33:36.186160Z",
     "iopub.status.idle": "2023-06-08T14:33:36.194641Z",
     "shell.execute_reply": "2023-06-08T14:33:36.193812Z",
     "shell.execute_reply.started": "2023-06-08T14:33:36.186597Z"
    },
    "tags": []
   },
   "outputs": [
    {
     "name": "stdout",
     "output_type": "stream",
     "text": [
      "Shape of Train  Label:  (1508, 3)\n",
      "Shape of Test Label:  (503, 3)\n"
     ]
    }
   ],
   "source": [
    "# converting categorical variables in y_train to numerical variables\n",
    "y_train_dummies = pd.get_dummies(y_train).values\n",
    "print('Shape of Train  Label: ', y_train_dummies.shape)\n",
    "\n",
    "y_test_dummies = pd.get_dummies(y_test).values\n",
    "print('Shape of Test Label: ', y_test_dummies.shape)\n"
   ]
  },
  {
   "cell_type": "code",
   "execution_count": 98,
   "metadata": {
    "execution": {
     "iopub.execute_input": "2023-06-07T13:06:29.565341Z",
     "iopub.status.busy": "2023-06-07T13:06:29.564343Z",
     "iopub.status.idle": "2023-06-07T13:06:29.582321Z",
     "shell.execute_reply": "2023-06-07T13:06:29.582321Z",
     "shell.execute_reply.started": "2023-06-07T13:06:29.565341Z"
    },
    "tags": []
   },
   "outputs": [
    {
     "data": {
      "text/plain": [
       "array([[0, 0, 1],\n",
       "       [0, 0, 1],\n",
       "       [0, 0, 1],\n",
       "       ...,\n",
       "       [0, 0, 1],\n",
       "       [0, 0, 1],\n",
       "       [0, 0, 1]], dtype=uint8)"
      ]
     },
     "execution_count": 98,
     "metadata": {},
     "output_type": "execute_result"
    }
   ],
   "source": [
    "y_train_dummies"
   ]
  },
  {
   "cell_type": "code",
   "execution_count": 101,
   "metadata": {
    "execution": {
     "iopub.execute_input": "2023-06-07T13:07:22.463146Z",
     "iopub.status.busy": "2023-06-07T13:07:22.461896Z",
     "iopub.status.idle": "2023-06-07T13:07:22.472866Z",
     "shell.execute_reply": "2023-06-07T13:07:22.472615Z",
     "shell.execute_reply.started": "2023-06-07T13:07:22.463146Z"
    },
    "tags": []
   },
   "outputs": [
    {
     "data": {
      "text/plain": [
       "numpy.ndarray"
      ]
     },
     "execution_count": 101,
     "metadata": {},
     "output_type": "execute_result"
    }
   ],
   "source": [
    "type(y_test_dummies)"
   ]
  },
  {
   "cell_type": "code",
   "execution_count": 102,
   "metadata": {
    "execution": {
     "iopub.execute_input": "2023-06-07T13:07:32.459359Z",
     "iopub.status.busy": "2023-06-07T13:07:32.458505Z",
     "iopub.status.idle": "2023-06-07T13:07:32.504917Z",
     "shell.execute_reply": "2023-06-07T13:07:32.504917Z",
     "shell.execute_reply.started": "2023-06-07T13:07:32.459359Z"
    },
    "tags": []
   },
   "outputs": [
    {
     "data": {
      "text/html": [
       "<div>\n",
       "<style scoped>\n",
       "    .dataframe tbody tr th:only-of-type {\n",
       "        vertical-align: middle;\n",
       "    }\n",
       "\n",
       "    .dataframe tbody tr th {\n",
       "        vertical-align: top;\n",
       "    }\n",
       "\n",
       "    .dataframe thead th {\n",
       "        text-align: right;\n",
       "    }\n",
       "</style>\n",
       "<table border=\"1\" class=\"dataframe\">\n",
       "  <thead>\n",
       "    <tr style=\"text-align: right;\">\n",
       "      <th></th>\n",
       "      <th>0</th>\n",
       "      <th>1</th>\n",
       "      <th>2</th>\n",
       "    </tr>\n",
       "  </thead>\n",
       "  <tbody>\n",
       "    <tr>\n",
       "      <th>count</th>\n",
       "      <td>7690.000000</td>\n",
       "      <td>7690.000000</td>\n",
       "      <td>7690.000000</td>\n",
       "    </tr>\n",
       "    <tr>\n",
       "      <th>mean</th>\n",
       "      <td>0.046944</td>\n",
       "      <td>0.075683</td>\n",
       "      <td>0.877373</td>\n",
       "    </tr>\n",
       "    <tr>\n",
       "      <th>std</th>\n",
       "      <td>0.211533</td>\n",
       "      <td>0.264507</td>\n",
       "      <td>0.328030</td>\n",
       "    </tr>\n",
       "    <tr>\n",
       "      <th>min</th>\n",
       "      <td>0.000000</td>\n",
       "      <td>0.000000</td>\n",
       "      <td>0.000000</td>\n",
       "    </tr>\n",
       "    <tr>\n",
       "      <th>25%</th>\n",
       "      <td>0.000000</td>\n",
       "      <td>0.000000</td>\n",
       "      <td>1.000000</td>\n",
       "    </tr>\n",
       "    <tr>\n",
       "      <th>50%</th>\n",
       "      <td>0.000000</td>\n",
       "      <td>0.000000</td>\n",
       "      <td>1.000000</td>\n",
       "    </tr>\n",
       "    <tr>\n",
       "      <th>75%</th>\n",
       "      <td>0.000000</td>\n",
       "      <td>0.000000</td>\n",
       "      <td>1.000000</td>\n",
       "    </tr>\n",
       "    <tr>\n",
       "      <th>max</th>\n",
       "      <td>1.000000</td>\n",
       "      <td>1.000000</td>\n",
       "      <td>1.000000</td>\n",
       "    </tr>\n",
       "  </tbody>\n",
       "</table>\n",
       "</div>"
      ],
      "text/plain": [
       "                 0            1            2\n",
       "count  7690.000000  7690.000000  7690.000000\n",
       "mean      0.046944     0.075683     0.877373\n",
       "std       0.211533     0.264507     0.328030\n",
       "min       0.000000     0.000000     0.000000\n",
       "25%       0.000000     0.000000     1.000000\n",
       "50%       0.000000     0.000000     1.000000\n",
       "75%       0.000000     0.000000     1.000000\n",
       "max       1.000000     1.000000     1.000000"
      ]
     },
     "execution_count": 127,
     "metadata": {},
     "output_type": "execute_result"
    }
   ],
   "source": [
    "df_2= pd.DataFrame(y_test_dummies)\n",
    "df_2.describe()"
   ]
  },
  {
   "cell_type": "code",
   "execution_count": 132,
   "metadata": {
    "execution": {
     "iopub.execute_input": "2023-06-07T13:41:07.023623Z",
     "iopub.status.busy": "2023-06-07T13:41:07.023623Z",
     "iopub.status.idle": "2023-06-07T13:41:07.031659Z",
     "shell.execute_reply": "2023-06-07T13:41:07.031659Z",
     "shell.execute_reply.started": "2023-06-07T13:41:07.023623Z"
    },
    "tags": []
   },
   "outputs": [
    {
     "data": {
      "text/plain": [
       "6747"
      ]
     },
     "execution_count": 132,
     "metadata": {},
     "output_type": "execute_result"
    }
   ],
   "source": [
    "len(df_pos)"
   ]
  },
  {
   "cell_type": "code",
   "execution_count": 73,
   "metadata": {
    "ExecutionIndicator": {
     "show": true
    },
    "execution": {
     "iopub.execute_input": "2023-06-08T13:56:26.224268Z",
     "iopub.status.busy": "2023-06-08T13:56:26.223708Z",
     "iopub.status.idle": "2023-06-08T13:56:26.230810Z",
     "shell.execute_reply": "2023-06-08T13:56:26.229705Z",
     "shell.execute_reply.started": "2023-06-08T13:56:26.224236Z"
    },
    "tags": []
   },
   "outputs": [
    {
     "data": {
      "text/plain": [
       "(1508, 3)"
      ]
     },
     "execution_count": 73,
     "metadata": {},
     "output_type": "execute_result"
    }
   ],
   "source": [
    "y_train_dummies.shape"
   ]
  },
  {
   "cell_type": "markdown",
   "metadata": {
    "execution": {
     "iopub.execute_input": "2023-05-28T02:17:33.139572Z",
     "iopub.status.busy": "2023-05-28T02:17:33.139572Z",
     "iopub.status.idle": "2023-05-28T02:17:33.146676Z",
     "shell.execute_reply": "2023-05-28T02:17:33.146676Z",
     "shell.execute_reply.started": "2023-05-28T02:17:33.139572Z"
    },
    "tags": []
   },
   "source": [
    "# MODELING AND EVALUATION"
   ]
  },
  {
   "cell_type": "markdown",
   "metadata": {},
   "source": [
    "**In this work we will practice 2 kinds of recurrent neural networks (RNNs)**\n",
    "**and see which algorithm has higher accuracy**\n",
    "\n",
    "* LSTM (Long Short-Term Memory)\n",
    "* GRU (Gated Recurrent Unit)\n"
   ]
  },
  {
   "cell_type": "markdown",
   "metadata": {},
   "source": [
    "## Build Model: LSTM"
   ]
  },
  {
   "cell_type": "code",
   "execution_count": 102,
   "metadata": {
    "ExecutionIndicator": {
     "show": true
    },
    "execution": {
     "iopub.execute_input": "2023-06-08T14:34:07.044575Z",
     "iopub.status.busy": "2023-06-08T14:34:07.044088Z",
     "iopub.status.idle": "2023-06-08T14:34:07.214936Z",
     "shell.execute_reply": "2023-06-08T14:34:07.214019Z",
     "shell.execute_reply.started": "2023-06-08T14:34:07.044545Z"
    },
    "tags": []
   },
   "outputs": [
    {
     "name": "stdout",
     "output_type": "stream",
     "text": [
      "WARNING:tensorflow:Layer lstm_4 will not use cuDNN kernels since it doesn't meet the criteria. It will use a generic GPU kernel as fallback when running on GPU.\n",
      "Model: \"sequential_4\"\n",
      "_________________________________________________________________\n",
      " Layer (type)                Output Shape              Param #   \n",
      "=================================================================\n",
      " embedding_4 (Embedding)     (None, 6, 100)            182600    \n",
      "                                                                 \n",
      " spatial_dropout1d_4 (Spatia  (None, 6, 100)           0         \n",
      " lDropout1D)                                                     \n",
      "                                                                 \n",
      " lstm_4 (LSTM)               (None, 64)                42240     \n",
      "                                                                 \n",
      " dense_4 (Dense)             (None, 3)                 195       \n",
      "                                                                 \n",
      "=================================================================\n",
      "Total params: 225,035\n",
      "Trainable params: 42,435\n",
      "Non-trainable params: 182,600\n",
      "_________________________________________________________________\n"
     ]
    }
   ],
   "source": [
    "from keras.callbacks import EarlyStopping\n",
    "from keras.regularizers import l2\n",
    "\n",
    "\n",
    "# We need sequential model to process sequence of text data\n",
    "model=Sequential()\n",
    "\n",
    "# Embedding(input_dimension, output_dimension,embeddings_initializer = initialize the embedding matrix we created, trainable = do not train)\n",
    "embedding=Embedding(num_words,100,\n",
    "                    embeddings_initializer=Constant(embedding_matrix),\n",
    "                    input_length=MAX_LEN,\n",
    "                    trainable=False)\n",
    "# Adding Embedding Layer\n",
    "model.add(embedding)\n",
    "\n",
    "# Drops 40% of entire row\n",
    "model.add(SpatialDropout1D(0.4))\n",
    "\n",
    "\n",
    "# Recurrent Layer LSTM(dimensionality of the output space, dropout = 20%, recurrent_dropout = 20%) \n",
    "model.add(LSTM(64, dropout=0.2, recurrent_dropout=0.2))\n",
    "\n",
    "# Decide what we are going to output Dense(units, activation function)\n",
    "model.add(Dense(3, activation='softmax'))\n",
    "\n",
    "\n",
    "# Compile the model compile(loss = categorical crossentropy, use Adam(adaptive moment estimation) optimizer with learning rate 1e-3,evaluate based on accuracy)\n",
    "model.compile(loss='categorical_crossentropy',optimizer=Adam(learning_rate=1e-4),metrics=['accuracy'])\n",
    "\n",
    "model.summary()\n",
    "\n"
   ]
  },
  {
   "cell_type": "code",
   "execution_count": 103,
   "metadata": {
    "ExecutionIndicator": {
     "show": true
    },
    "execution": {
     "iopub.execute_input": "2023-06-08T14:34:20.155214Z",
     "iopub.status.busy": "2023-06-08T14:34:20.154685Z",
     "iopub.status.idle": "2023-06-08T14:36:14.158063Z",
     "shell.execute_reply": "2023-06-08T14:36:14.157176Z",
     "shell.execute_reply.started": "2023-06-08T14:34:20.155182Z"
    },
    "tags": []
   },
   "outputs": [
    {
     "name": "stdout",
     "output_type": "stream",
     "text": [
      "Epoch 1/100\n",
      "48/48 - 4s - loss: 1.0986 - accuracy: 0.3753 - val_loss: 1.0796 - val_accuracy: 0.3877 - 4s/epoch - 94ms/step\n",
      "Epoch 2/100\n",
      "48/48 - 1s - loss: 1.0740 - accuracy: 0.4290 - val_loss: 1.0633 - val_accuracy: 0.4453 - 1s/epoch - 23ms/step\n",
      "Epoch 3/100\n",
      "48/48 - 1s - loss: 1.0720 - accuracy: 0.4118 - val_loss: 1.0535 - val_accuracy: 0.4612 - 1s/epoch - 24ms/step\n",
      "Epoch 4/100\n",
      "48/48 - 1s - loss: 1.0608 - accuracy: 0.4576 - val_loss: 1.0434 - val_accuracy: 0.4930 - 1s/epoch - 24ms/step\n",
      "Epoch 5/100\n",
      "48/48 - 1s - loss: 1.0486 - accuracy: 0.4695 - val_loss: 1.0329 - val_accuracy: 0.5010 - 1s/epoch - 23ms/step\n",
      "Epoch 6/100\n",
      "48/48 - 1s - loss: 1.0414 - accuracy: 0.4894 - val_loss: 1.0229 - val_accuracy: 0.5169 - 1s/epoch - 23ms/step\n",
      "Epoch 7/100\n",
      "48/48 - 1s - loss: 1.0310 - accuracy: 0.4847 - val_loss: 1.0119 - val_accuracy: 0.5149 - 1s/epoch - 23ms/step\n",
      "Epoch 8/100\n",
      "48/48 - 1s - loss: 1.0169 - accuracy: 0.5119 - val_loss: 1.0008 - val_accuracy: 0.5249 - 1s/epoch - 23ms/step\n",
      "Epoch 9/100\n",
      "48/48 - 1s - loss: 1.0129 - accuracy: 0.5126 - val_loss: 0.9881 - val_accuracy: 0.5328 - 1s/epoch - 23ms/step\n",
      "Epoch 10/100\n",
      "48/48 - 1s - loss: 1.0044 - accuracy: 0.5093 - val_loss: 0.9761 - val_accuracy: 0.5368 - 1s/epoch - 23ms/step\n",
      "Epoch 11/100\n",
      "48/48 - 1s - loss: 0.9927 - accuracy: 0.5066 - val_loss: 0.9635 - val_accuracy: 0.5427 - 1s/epoch - 23ms/step\n",
      "Epoch 12/100\n",
      "48/48 - 1s - loss: 0.9850 - accuracy: 0.5086 - val_loss: 0.9519 - val_accuracy: 0.5408 - 1s/epoch - 23ms/step\n",
      "Epoch 13/100\n",
      "48/48 - 1s - loss: 0.9597 - accuracy: 0.5464 - val_loss: 0.9408 - val_accuracy: 0.5487 - 1s/epoch - 23ms/step\n",
      "Epoch 14/100\n",
      "48/48 - 1s - loss: 0.9497 - accuracy: 0.5398 - val_loss: 0.9302 - val_accuracy: 0.5408 - 1s/epoch - 23ms/step\n",
      "Epoch 15/100\n",
      "48/48 - 1s - loss: 0.9504 - accuracy: 0.5431 - val_loss: 0.9229 - val_accuracy: 0.5487 - 1s/epoch - 23ms/step\n",
      "Epoch 16/100\n",
      "48/48 - 1s - loss: 0.9444 - accuracy: 0.5491 - val_loss: 0.9163 - val_accuracy: 0.5447 - 1s/epoch - 24ms/step\n",
      "Epoch 17/100\n",
      "48/48 - 1s - loss: 0.9401 - accuracy: 0.5550 - val_loss: 0.9107 - val_accuracy: 0.5527 - 1s/epoch - 23ms/step\n",
      "Epoch 18/100\n",
      "48/48 - 1s - loss: 0.9321 - accuracy: 0.5550 - val_loss: 0.9049 - val_accuracy: 0.5507 - 1s/epoch - 24ms/step\n",
      "Epoch 19/100\n",
      "48/48 - 1s - loss: 0.9301 - accuracy: 0.5531 - val_loss: 0.8989 - val_accuracy: 0.5606 - 1s/epoch - 23ms/step\n",
      "Epoch 20/100\n",
      "48/48 - 1s - loss: 0.9163 - accuracy: 0.5756 - val_loss: 0.8945 - val_accuracy: 0.5606 - 1s/epoch - 23ms/step\n",
      "Epoch 21/100\n",
      "48/48 - 1s - loss: 0.9073 - accuracy: 0.5637 - val_loss: 0.8908 - val_accuracy: 0.5586 - 1s/epoch - 23ms/step\n",
      "Epoch 22/100\n",
      "48/48 - 1s - loss: 0.9063 - accuracy: 0.5676 - val_loss: 0.8884 - val_accuracy: 0.5686 - 1s/epoch - 23ms/step\n",
      "Epoch 23/100\n",
      "48/48 - 1s - loss: 0.9055 - accuracy: 0.5690 - val_loss: 0.8852 - val_accuracy: 0.5746 - 1s/epoch - 23ms/step\n",
      "Epoch 24/100\n",
      "48/48 - 1s - loss: 0.8985 - accuracy: 0.5836 - val_loss: 0.8826 - val_accuracy: 0.5726 - 1s/epoch - 23ms/step\n",
      "Epoch 25/100\n",
      "48/48 - 1s - loss: 0.8989 - accuracy: 0.5743 - val_loss: 0.8793 - val_accuracy: 0.5746 - 1s/epoch - 23ms/step\n",
      "Epoch 26/100\n",
      "48/48 - 1s - loss: 0.8929 - accuracy: 0.5809 - val_loss: 0.8772 - val_accuracy: 0.5805 - 1s/epoch - 23ms/step\n",
      "Epoch 27/100\n",
      "48/48 - 1s - loss: 0.8924 - accuracy: 0.5849 - val_loss: 0.8758 - val_accuracy: 0.5865 - 1s/epoch - 23ms/step\n",
      "Epoch 28/100\n",
      "48/48 - 1s - loss: 0.8962 - accuracy: 0.5710 - val_loss: 0.8743 - val_accuracy: 0.5785 - 1s/epoch - 23ms/step\n",
      "Epoch 29/100\n",
      "48/48 - 1s - loss: 0.8868 - accuracy: 0.5849 - val_loss: 0.8716 - val_accuracy: 0.5905 - 1s/epoch - 23ms/step\n",
      "Epoch 30/100\n",
      "48/48 - 1s - loss: 0.8940 - accuracy: 0.5849 - val_loss: 0.8721 - val_accuracy: 0.5746 - 1s/epoch - 23ms/step\n",
      "Epoch 31/100\n",
      "48/48 - 1s - loss: 0.8892 - accuracy: 0.5789 - val_loss: 0.8690 - val_accuracy: 0.5905 - 1s/epoch - 23ms/step\n",
      "Epoch 32/100\n",
      "48/48 - 1s - loss: 0.8757 - accuracy: 0.5908 - val_loss: 0.8675 - val_accuracy: 0.5885 - 1s/epoch - 23ms/step\n",
      "Epoch 33/100\n",
      "48/48 - 1s - loss: 0.8723 - accuracy: 0.5935 - val_loss: 0.8660 - val_accuracy: 0.5865 - 1s/epoch - 23ms/step\n",
      "Epoch 34/100\n",
      "48/48 - 1s - loss: 0.8735 - accuracy: 0.6121 - val_loss: 0.8660 - val_accuracy: 0.5825 - 1s/epoch - 23ms/step\n",
      "Epoch 35/100\n",
      "48/48 - 1s - loss: 0.8749 - accuracy: 0.5962 - val_loss: 0.8644 - val_accuracy: 0.5885 - 1s/epoch - 23ms/step\n",
      "Epoch 36/100\n",
      "48/48 - 1s - loss: 0.8739 - accuracy: 0.5855 - val_loss: 0.8627 - val_accuracy: 0.5865 - 1s/epoch - 23ms/step\n",
      "Epoch 37/100\n",
      "48/48 - 1s - loss: 0.8627 - accuracy: 0.5882 - val_loss: 0.8615 - val_accuracy: 0.5905 - 1s/epoch - 24ms/step\n",
      "Epoch 38/100\n",
      "48/48 - 1s - loss: 0.8638 - accuracy: 0.5882 - val_loss: 0.8602 - val_accuracy: 0.5805 - 1s/epoch - 23ms/step\n",
      "Epoch 39/100\n",
      "48/48 - 1s - loss: 0.8673 - accuracy: 0.5995 - val_loss: 0.8586 - val_accuracy: 0.5905 - 1s/epoch - 23ms/step\n",
      "Epoch 40/100\n",
      "48/48 - 1s - loss: 0.8607 - accuracy: 0.6021 - val_loss: 0.8601 - val_accuracy: 0.5805 - 1s/epoch - 23ms/step\n",
      "Epoch 41/100\n",
      "48/48 - 1s - loss: 0.8718 - accuracy: 0.5889 - val_loss: 0.8577 - val_accuracy: 0.5905 - 1s/epoch - 23ms/step\n",
      "Epoch 42/100\n",
      "48/48 - 1s - loss: 0.8545 - accuracy: 0.6061 - val_loss: 0.8575 - val_accuracy: 0.5905 - 1s/epoch - 23ms/step\n",
      "Epoch 43/100\n",
      "48/48 - 1s - loss: 0.8637 - accuracy: 0.6001 - val_loss: 0.8564 - val_accuracy: 0.5905 - 1s/epoch - 23ms/step\n",
      "Epoch 44/100\n",
      "48/48 - 1s - loss: 0.8678 - accuracy: 0.6048 - val_loss: 0.8553 - val_accuracy: 0.5964 - 1s/epoch - 23ms/step\n",
      "Epoch 45/100\n",
      "48/48 - 1s - loss: 0.8484 - accuracy: 0.6121 - val_loss: 0.8551 - val_accuracy: 0.5924 - 1s/epoch - 23ms/step\n",
      "Epoch 46/100\n",
      "48/48 - 1s - loss: 0.8518 - accuracy: 0.6015 - val_loss: 0.8542 - val_accuracy: 0.5944 - 1s/epoch - 23ms/step\n",
      "Epoch 47/100\n",
      "48/48 - 1s - loss: 0.8516 - accuracy: 0.5968 - val_loss: 0.8530 - val_accuracy: 0.5885 - 1s/epoch - 23ms/step\n",
      "Epoch 48/100\n",
      "48/48 - 1s - loss: 0.8600 - accuracy: 0.6034 - val_loss: 0.8530 - val_accuracy: 0.5924 - 1s/epoch - 23ms/step\n",
      "Epoch 49/100\n",
      "48/48 - 1s - loss: 0.8517 - accuracy: 0.6200 - val_loss: 0.8534 - val_accuracy: 0.5944 - 1s/epoch - 23ms/step\n",
      "Epoch 50/100\n",
      "48/48 - 1s - loss: 0.8548 - accuracy: 0.5842 - val_loss: 0.8522 - val_accuracy: 0.5944 - 1s/epoch - 23ms/step\n",
      "Epoch 51/100\n",
      "48/48 - 1s - loss: 0.8468 - accuracy: 0.6134 - val_loss: 0.8510 - val_accuracy: 0.5944 - 1s/epoch - 23ms/step\n",
      "Epoch 52/100\n",
      "48/48 - 1s - loss: 0.8488 - accuracy: 0.6061 - val_loss: 0.8506 - val_accuracy: 0.5905 - 1s/epoch - 23ms/step\n",
      "Epoch 53/100\n",
      "48/48 - 1s - loss: 0.8384 - accuracy: 0.6134 - val_loss: 0.8497 - val_accuracy: 0.5905 - 1s/epoch - 23ms/step\n",
      "Epoch 54/100\n",
      "48/48 - 1s - loss: 0.8562 - accuracy: 0.6141 - val_loss: 0.8503 - val_accuracy: 0.5964 - 1s/epoch - 23ms/step\n",
      "Epoch 55/100\n",
      "48/48 - 1s - loss: 0.8552 - accuracy: 0.5968 - val_loss: 0.8485 - val_accuracy: 0.5944 - 1s/epoch - 23ms/step\n",
      "Epoch 56/100\n",
      "48/48 - 1s - loss: 0.8490 - accuracy: 0.6114 - val_loss: 0.8480 - val_accuracy: 0.5984 - 1s/epoch - 23ms/step\n",
      "Epoch 57/100\n",
      "48/48 - 1s - loss: 0.8435 - accuracy: 0.6160 - val_loss: 0.8513 - val_accuracy: 0.5924 - 1s/epoch - 23ms/step\n",
      "Epoch 58/100\n",
      "48/48 - 1s - loss: 0.8425 - accuracy: 0.6167 - val_loss: 0.8477 - val_accuracy: 0.5964 - 1s/epoch - 23ms/step\n",
      "Epoch 59/100\n",
      "48/48 - 1s - loss: 0.8504 - accuracy: 0.6015 - val_loss: 0.8462 - val_accuracy: 0.5984 - 1s/epoch - 23ms/step\n",
      "Epoch 60/100\n",
      "48/48 - 1s - loss: 0.8349 - accuracy: 0.6200 - val_loss: 0.8469 - val_accuracy: 0.5984 - 1s/epoch - 23ms/step\n",
      "Epoch 61/100\n",
      "48/48 - 1s - loss: 0.8484 - accuracy: 0.6048 - val_loss: 0.8460 - val_accuracy: 0.5964 - 1s/epoch - 23ms/step\n",
      "Epoch 62/100\n",
      "48/48 - 1s - loss: 0.8379 - accuracy: 0.6154 - val_loss: 0.8446 - val_accuracy: 0.6064 - 1s/epoch - 23ms/step\n",
      "Epoch 63/100\n",
      "48/48 - 1s - loss: 0.8403 - accuracy: 0.6107 - val_loss: 0.8459 - val_accuracy: 0.6024 - 1s/epoch - 23ms/step\n",
      "Epoch 64/100\n",
      "48/48 - 1s - loss: 0.8382 - accuracy: 0.6061 - val_loss: 0.8454 - val_accuracy: 0.6024 - 1s/epoch - 23ms/step\n",
      "Epoch 65/100\n",
      "48/48 - 1s - loss: 0.8267 - accuracy: 0.6214 - val_loss: 0.8463 - val_accuracy: 0.5984 - 1s/epoch - 23ms/step\n",
      "Epoch 66/100\n",
      "48/48 - 1s - loss: 0.8368 - accuracy: 0.6167 - val_loss: 0.8457 - val_accuracy: 0.6024 - 1s/epoch - 23ms/step\n",
      "Epoch 67/100\n",
      "48/48 - 1s - loss: 0.8373 - accuracy: 0.6088 - val_loss: 0.8445 - val_accuracy: 0.6103 - 1s/epoch - 23ms/step\n",
      "Epoch 68/100\n",
      "48/48 - 1s - loss: 0.8278 - accuracy: 0.6167 - val_loss: 0.8462 - val_accuracy: 0.5984 - 1s/epoch - 23ms/step\n",
      "Epoch 69/100\n",
      "48/48 - 1s - loss: 0.8336 - accuracy: 0.6180 - val_loss: 0.8454 - val_accuracy: 0.6044 - 1s/epoch - 23ms/step\n",
      "Epoch 70/100\n",
      "48/48 - 1s - loss: 0.8206 - accuracy: 0.6167 - val_loss: 0.8446 - val_accuracy: 0.6044 - 1s/epoch - 23ms/step\n",
      "Epoch 71/100\n",
      "48/48 - 1s - loss: 0.8333 - accuracy: 0.6114 - val_loss: 0.8438 - val_accuracy: 0.6064 - 1s/epoch - 24ms/step\n",
      "Epoch 72/100\n",
      "48/48 - 1s - loss: 0.8202 - accuracy: 0.6094 - val_loss: 0.8448 - val_accuracy: 0.5984 - 1s/epoch - 23ms/step\n",
      "Epoch 73/100\n",
      "48/48 - 1s - loss: 0.8216 - accuracy: 0.6227 - val_loss: 0.8455 - val_accuracy: 0.6103 - 1s/epoch - 23ms/step\n",
      "Epoch 74/100\n",
      "48/48 - 1s - loss: 0.8272 - accuracy: 0.6273 - val_loss: 0.8434 - val_accuracy: 0.6103 - 1s/epoch - 23ms/step\n",
      "Epoch 75/100\n",
      "48/48 - 1s - loss: 0.8169 - accuracy: 0.6214 - val_loss: 0.8429 - val_accuracy: 0.6044 - 1s/epoch - 23ms/step\n",
      "Epoch 76/100\n",
      "48/48 - 1s - loss: 0.8304 - accuracy: 0.6247 - val_loss: 0.8425 - val_accuracy: 0.6083 - 1s/epoch - 23ms/step\n",
      "Epoch 77/100\n",
      "48/48 - 1s - loss: 0.8152 - accuracy: 0.6260 - val_loss: 0.8426 - val_accuracy: 0.6004 - 1s/epoch - 23ms/step\n",
      "Epoch 78/100\n",
      "48/48 - 1s - loss: 0.8239 - accuracy: 0.6240 - val_loss: 0.8441 - val_accuracy: 0.6004 - 1s/epoch - 23ms/step\n",
      "Epoch 79/100\n",
      "48/48 - 1s - loss: 0.8258 - accuracy: 0.6280 - val_loss: 0.8427 - val_accuracy: 0.5984 - 1s/epoch - 23ms/step\n",
      "Epoch 80/100\n",
      "48/48 - 1s - loss: 0.8230 - accuracy: 0.6154 - val_loss: 0.8435 - val_accuracy: 0.6024 - 1s/epoch - 23ms/step\n",
      "Epoch 81/100\n",
      "48/48 - 1s - loss: 0.8199 - accuracy: 0.6194 - val_loss: 0.8426 - val_accuracy: 0.6024 - 1s/epoch - 23ms/step\n",
      "Epoch 82/100\n",
      "48/48 - 1s - loss: 0.8276 - accuracy: 0.6180 - val_loss: 0.8421 - val_accuracy: 0.6064 - 1s/epoch - 23ms/step\n",
      "Epoch 83/100\n",
      "48/48 - 1s - loss: 0.8261 - accuracy: 0.6187 - val_loss: 0.8416 - val_accuracy: 0.6044 - 1s/epoch - 23ms/step\n",
      "Epoch 84/100\n",
      "48/48 - 1s - loss: 0.8216 - accuracy: 0.6280 - val_loss: 0.8418 - val_accuracy: 0.6024 - 1s/epoch - 23ms/step\n",
      "Epoch 85/100\n",
      "48/48 - 1s - loss: 0.8000 - accuracy: 0.6194 - val_loss: 0.8427 - val_accuracy: 0.5984 - 1s/epoch - 23ms/step\n",
      "Epoch 86/100\n",
      "48/48 - 1s - loss: 0.8309 - accuracy: 0.6088 - val_loss: 0.8435 - val_accuracy: 0.6083 - 1s/epoch - 23ms/step\n",
      "Epoch 87/100\n",
      "48/48 - 1s - loss: 0.8098 - accuracy: 0.6293 - val_loss: 0.8424 - val_accuracy: 0.5964 - 1s/epoch - 23ms/step\n",
      "Epoch 88/100\n",
      "48/48 - 1s - loss: 0.8177 - accuracy: 0.6300 - val_loss: 0.8439 - val_accuracy: 0.6004 - 1s/epoch - 23ms/step\n",
      "Epoch 89/100\n",
      "48/48 - 1s - loss: 0.8202 - accuracy: 0.6154 - val_loss: 0.8430 - val_accuracy: 0.5964 - 1s/epoch - 23ms/step\n",
      "Epoch 90/100\n",
      "48/48 - 1s - loss: 0.8240 - accuracy: 0.6187 - val_loss: 0.8425 - val_accuracy: 0.5924 - 1s/epoch - 23ms/step\n",
      "Epoch 91/100\n",
      "48/48 - 1s - loss: 0.8213 - accuracy: 0.6207 - val_loss: 0.8416 - val_accuracy: 0.5905 - 1s/epoch - 24ms/step\n",
      "Epoch 92/100\n",
      "48/48 - 1s - loss: 0.8077 - accuracy: 0.6439 - val_loss: 0.8425 - val_accuracy: 0.5984 - 1s/epoch - 23ms/step\n",
      "Epoch 93/100\n",
      "48/48 - 1s - loss: 0.8057 - accuracy: 0.6366 - val_loss: 0.8415 - val_accuracy: 0.5924 - 1s/epoch - 23ms/step\n",
      "Epoch 94/100\n",
      "48/48 - 1s - loss: 0.8172 - accuracy: 0.6260 - val_loss: 0.8400 - val_accuracy: 0.5905 - 1s/epoch - 23ms/step\n",
      "Epoch 95/100\n",
      "48/48 - 1s - loss: 0.8058 - accuracy: 0.6353 - val_loss: 0.8391 - val_accuracy: 0.5964 - 1s/epoch - 23ms/step\n",
      "Epoch 96/100\n",
      "48/48 - 1s - loss: 0.7990 - accuracy: 0.6326 - val_loss: 0.8407 - val_accuracy: 0.5984 - 1s/epoch - 23ms/step\n",
      "Epoch 97/100\n",
      "48/48 - 1s - loss: 0.8041 - accuracy: 0.6286 - val_loss: 0.8397 - val_accuracy: 0.5984 - 1s/epoch - 23ms/step\n",
      "Epoch 98/100\n",
      "48/48 - 1s - loss: 0.8071 - accuracy: 0.6386 - val_loss: 0.8397 - val_accuracy: 0.6004 - 1s/epoch - 23ms/step\n",
      "Epoch 99/100\n",
      "48/48 - 1s - loss: 0.8181 - accuracy: 0.6293 - val_loss: 0.8391 - val_accuracy: 0.6004 - 1s/epoch - 23ms/step\n",
      "Epoch 100/100\n",
      "48/48 - 1s - loss: 0.8052 - accuracy: 0.6253 - val_loss: 0.8384 - val_accuracy: 0.6004 - 1s/epoch - 23ms/step\n"
     ]
    }
   ],
   "source": [
    "history=model.fit(X_train,y_train_dummies,batch_size=32,epochs=100,validation_data=(X_test,y_test_dummies),verbose=2)"
   ]
  },
  {
   "cell_type": "code",
   "execution_count": 104,
   "metadata": {
    "execution": {
     "iopub.execute_input": "2023-06-08T14:36:21.818772Z",
     "iopub.status.busy": "2023-06-08T14:36:21.818266Z",
     "iopub.status.idle": "2023-06-08T14:36:22.044685Z",
     "shell.execute_reply": "2023-06-08T14:36:22.043846Z",
     "shell.execute_reply.started": "2023-06-08T14:36:21.818743Z"
    },
    "tags": []
   },
   "outputs": [
    {
     "data": {
      "image/png": "[encoded data removed]",
      "text/plain": [
       "<Figure size 640x480 with 1 Axes>"
      ]
     },
     "metadata": {},
     "output_type": "display_data"
    }
   ],
   "source": [
    "# Accuracy vs Epoch\n",
    "plt.title('Accuracy')\n",
    "plt.plot(history.history['accuracy'], label='train')\n",
    "plt.plot(history.history['val_accuracy'], label='test')\n",
    "plt.legend()\n",
    "plt.show();"
   ]
  },
  {
   "cell_type": "code",
   "execution_count": null,
   "metadata": {},
   "outputs": [],
   "source": []
  },
  {
   "cell_type": "code",
   "execution_count": 105,
   "metadata": {
    "execution": {
     "iopub.execute_input": "2023-06-08T14:37:30.891134Z",
     "iopub.status.busy": "2023-06-08T14:37:30.890617Z",
     "iopub.status.idle": "2023-06-08T14:37:31.083664Z",
     "shell.execute_reply": "2023-06-08T14:37:31.082929Z",
     "shell.execute_reply.started": "2023-06-08T14:37:30.891099Z"
    },
    "tags": []
   },
   "outputs": [
    {
     "data": {
      "image/png": "[encoded data removed]",
      "text/plain": [
       "<Figure size 640x480 with 1 Axes>"
      ]
     },
     "metadata": {},
     "output_type": "display_data"
    }
   ],
   "source": [
    "# Loss vs Epoch\n",
    "# Visualize learning curve. Here learning curve is not ideal. It should be much smoother as it decreases.\n",
    "\n",
    "epoch_count = range(1, len(history.history['loss']) + 1)\n",
    "plt.plot(epoch_count, history.history['loss'], 'r--')\n",
    "plt.plot(epoch_count, history.history['val_loss'], 'b-')\n",
    "plt.legend(['Training Loss', 'Validation Loss'])\n",
    "plt.xlabel('Epoch')\n",
    "plt.ylabel('Loss')\n",
    "plt.show()"
   ]
  },
  {
   "cell_type": "code",
   "execution_count": 107,
   "metadata": {
    "ExecutionIndicator": {
     "show": false
    },
    "execution": {
     "iopub.execute_input": "2023-06-08T14:39:28.534599Z",
     "iopub.status.busy": "2023-06-08T14:39:28.534127Z",
     "iopub.status.idle": "2023-06-08T14:40:49.855121Z",
     "shell.execute_reply": "2023-06-08T14:40:49.854256Z",
     "shell.execute_reply.started": "2023-06-08T14:39:28.534568Z"
    },
    "tags": []
   },
   "outputs": [
    {
     "name": "stdout",
     "output_type": "stream",
     "text": [
      "WARNING:tensorflow:Layer lstm_6 will not use cuDNN kernels since it doesn't meet the criteria. It will use a generic GPU kernel as fallback when running on GPU.\n",
      "Model: \"sequential_6\"\n",
      "_________________________________________________________________\n",
      " Layer (type)                Output Shape              Param #   \n",
      "=================================================================\n",
      " embedding_6 (Embedding)     (None, 6, 100)            182600    \n",
      "                                                                 \n",
      " spatial_dropout1d_6 (Spatia  (None, 6, 100)           0         \n",
      " lDropout1D)                                                     \n",
      "                                                                 \n",
      " lstm_6 (LSTM)               (None, 64)                42240     \n",
      "                                                                 \n",
      " dense_7 (Dense)             (None, 32)                2080      \n",
      "                                                                 \n",
      " dropout_1 (Dropout)         (None, 32)                0         \n",
      "                                                                 \n",
      " dense_8 (Dense)             (None, 3)                 99        \n",
      "                                                                 \n",
      "=================================================================\n",
      "Total params: 227,019\n",
      "Trainable params: 44,419\n",
      "Non-trainable params: 182,600\n",
      "_________________________________________________________________\n",
      "Epoch 1/70\n",
      "48/48 - 4s - loss: 2.9047 - accuracy: 0.3528 - val_loss: 2.8154 - val_accuracy: 0.4076 - 4s/epoch - 80ms/step\n",
      "Epoch 2/70\n",
      "48/48 - 1s - loss: 2.7759 - accuracy: 0.3859 - val_loss: 2.6927 - val_accuracy: 0.4414 - 1s/epoch - 24ms/step\n",
      "Epoch 3/70\n",
      "48/48 - 1s - loss: 2.6581 - accuracy: 0.3939 - val_loss: 2.5788 - val_accuracy: 0.4473 - 1s/epoch - 23ms/step\n",
      "Epoch 4/70\n",
      "48/48 - 1s - loss: 2.5427 - accuracy: 0.4105 - val_loss: 2.4745 - val_accuracy: 0.4592 - 1s/epoch - 23ms/step\n",
      "Epoch 5/70\n",
      "48/48 - 1s - loss: 2.4424 - accuracy: 0.4138 - val_loss: 2.3769 - val_accuracy: 0.4732 - 1s/epoch - 23ms/step\n",
      "Epoch 6/70\n",
      "48/48 - 1s - loss: 2.3531 - accuracy: 0.4085 - val_loss: 2.2848 - val_accuracy: 0.4771 - 1s/epoch - 23ms/step\n",
      "Epoch 7/70\n",
      "48/48 - 1s - loss: 2.2610 - accuracy: 0.4324 - val_loss: 2.1997 - val_accuracy: 0.4732 - 1s/epoch - 23ms/step\n",
      "Epoch 8/70\n",
      "48/48 - 1s - loss: 2.1888 - accuracy: 0.4191 - val_loss: 2.1213 - val_accuracy: 0.4851 - 1s/epoch - 23ms/step\n",
      "Epoch 9/70\n",
      "48/48 - 1s - loss: 2.1062 - accuracy: 0.4383 - val_loss: 2.0479 - val_accuracy: 0.4970 - 1s/epoch - 24ms/step\n",
      "Epoch 10/70\n",
      "48/48 - 1s - loss: 2.0351 - accuracy: 0.4344 - val_loss: 1.9790 - val_accuracy: 0.4990 - 1s/epoch - 23ms/step\n",
      "Epoch 11/70\n",
      "48/48 - 1s - loss: 1.9600 - accuracy: 0.4436 - val_loss: 1.9142 - val_accuracy: 0.4970 - 1s/epoch - 24ms/step\n",
      "Epoch 12/70\n",
      "48/48 - 1s - loss: 1.9030 - accuracy: 0.4430 - val_loss: 1.8538 - val_accuracy: 0.5089 - 1s/epoch - 24ms/step\n",
      "Epoch 13/70\n",
      "48/48 - 1s - loss: 1.8488 - accuracy: 0.4562 - val_loss: 1.7977 - val_accuracy: 0.5010 - 1s/epoch - 23ms/step\n",
      "Epoch 14/70\n",
      "48/48 - 1s - loss: 1.7886 - accuracy: 0.4642 - val_loss: 1.7431 - val_accuracy: 0.4930 - 1s/epoch - 23ms/step\n",
      "Epoch 15/70\n",
      "48/48 - 1s - loss: 1.7395 - accuracy: 0.4602 - val_loss: 1.6936 - val_accuracy: 0.5050 - 1s/epoch - 23ms/step\n",
      "Epoch 16/70\n",
      "48/48 - 1s - loss: 1.7023 - accuracy: 0.4609 - val_loss: 1.6477 - val_accuracy: 0.5089 - 1s/epoch - 23ms/step\n",
      "Epoch 17/70\n",
      "48/48 - 1s - loss: 1.6544 - accuracy: 0.4556 - val_loss: 1.6041 - val_accuracy: 0.5149 - 1s/epoch - 23ms/step\n",
      "Epoch 18/70\n",
      "48/48 - 1s - loss: 1.6075 - accuracy: 0.4768 - val_loss: 1.5629 - val_accuracy: 0.5169 - 1s/epoch - 24ms/step\n",
      "Epoch 19/70\n",
      "48/48 - 1s - loss: 1.5706 - accuracy: 0.5099 - val_loss: 1.5239 - val_accuracy: 0.5149 - 1s/epoch - 23ms/step\n",
      "Epoch 20/70\n",
      "48/48 - 1s - loss: 1.5352 - accuracy: 0.4954 - val_loss: 1.4881 - val_accuracy: 0.5209 - 1s/epoch - 24ms/step\n",
      "Epoch 21/70\n",
      "48/48 - 1s - loss: 1.5026 - accuracy: 0.4847 - val_loss: 1.4543 - val_accuracy: 0.5249 - 1s/epoch - 23ms/step\n",
      "Epoch 22/70\n",
      "48/48 - 1s - loss: 1.4662 - accuracy: 0.5040 - val_loss: 1.4220 - val_accuracy: 0.5288 - 1s/epoch - 23ms/step\n",
      "Epoch 23/70\n",
      "48/48 - 1s - loss: 1.4405 - accuracy: 0.5000 - val_loss: 1.3909 - val_accuracy: 0.5348 - 1s/epoch - 23ms/step\n",
      "Epoch 24/70\n",
      "48/48 - 1s - loss: 1.4052 - accuracy: 0.5046 - val_loss: 1.3629 - val_accuracy: 0.5388 - 1s/epoch - 23ms/step\n",
      "Epoch 25/70\n",
      "48/48 - 1s - loss: 1.3890 - accuracy: 0.5053 - val_loss: 1.3393 - val_accuracy: 0.5348 - 1s/epoch - 23ms/step\n",
      "Epoch 26/70\n",
      "48/48 - 1s - loss: 1.3612 - accuracy: 0.5113 - val_loss: 1.3138 - val_accuracy: 0.5467 - 1s/epoch - 23ms/step\n",
      "Epoch 27/70\n",
      "48/48 - 1s - loss: 1.3464 - accuracy: 0.5305 - val_loss: 1.2935 - val_accuracy: 0.5408 - 1s/epoch - 23ms/step\n",
      "Epoch 28/70\n",
      "48/48 - 1s - loss: 1.3134 - accuracy: 0.5351 - val_loss: 1.2720 - val_accuracy: 0.5507 - 1s/epoch - 23ms/step\n",
      "Epoch 29/70\n",
      "48/48 - 1s - loss: 1.2953 - accuracy: 0.5338 - val_loss: 1.2542 - val_accuracy: 0.5427 - 1s/epoch - 23ms/step\n",
      "Epoch 30/70\n",
      "48/48 - 1s - loss: 1.2764 - accuracy: 0.5318 - val_loss: 1.2352 - val_accuracy: 0.5487 - 1s/epoch - 23ms/step\n",
      "Epoch 31/70\n",
      "48/48 - 1s - loss: 1.2618 - accuracy: 0.5405 - val_loss: 1.2201 - val_accuracy: 0.5467 - 1s/epoch - 23ms/step\n",
      "Epoch 32/70\n",
      "48/48 - 1s - loss: 1.2460 - accuracy: 0.5365 - val_loss: 1.2057 - val_accuracy: 0.5507 - 1s/epoch - 24ms/step\n",
      "Epoch 33/70\n",
      "48/48 - 1s - loss: 1.2359 - accuracy: 0.5418 - val_loss: 1.1925 - val_accuracy: 0.5487 - 1s/epoch - 23ms/step\n",
      "Epoch 34/70\n",
      "48/48 - 1s - loss: 1.2085 - accuracy: 0.5537 - val_loss: 1.1784 - val_accuracy: 0.5507 - 1s/epoch - 23ms/step\n",
      "Epoch 35/70\n",
      "48/48 - 1s - loss: 1.2193 - accuracy: 0.5312 - val_loss: 1.1664 - val_accuracy: 0.5507 - 1s/epoch - 23ms/step\n",
      "Epoch 36/70\n",
      "48/48 - 1s - loss: 1.2097 - accuracy: 0.5391 - val_loss: 1.1582 - val_accuracy: 0.5427 - 1s/epoch - 24ms/step\n",
      "Epoch 37/70\n",
      "48/48 - 1s - loss: 1.1992 - accuracy: 0.5351 - val_loss: 1.1490 - val_accuracy: 0.5408 - 1s/epoch - 23ms/step\n",
      "Epoch 38/70\n",
      "48/48 - 1s - loss: 1.1742 - accuracy: 0.5497 - val_loss: 1.1397 - val_accuracy: 0.5487 - 1s/epoch - 24ms/step\n",
      "Epoch 39/70\n",
      "48/48 - 1s - loss: 1.1828 - accuracy: 0.5338 - val_loss: 1.1304 - val_accuracy: 0.5388 - 1s/epoch - 23ms/step\n",
      "Epoch 40/70\n",
      "48/48 - 1s - loss: 1.1611 - accuracy: 0.5524 - val_loss: 1.1238 - val_accuracy: 0.5447 - 1s/epoch - 23ms/step\n",
      "Epoch 41/70\n",
      "48/48 - 1s - loss: 1.1603 - accuracy: 0.5464 - val_loss: 1.1162 - val_accuracy: 0.5567 - 1s/epoch - 23ms/step\n",
      "Epoch 42/70\n",
      "48/48 - 1s - loss: 1.1430 - accuracy: 0.5504 - val_loss: 1.1075 - val_accuracy: 0.5427 - 1s/epoch - 23ms/step\n",
      "Epoch 43/70\n",
      "48/48 - 1s - loss: 1.1317 - accuracy: 0.5531 - val_loss: 1.0994 - val_accuracy: 0.5567 - 1s/epoch - 23ms/step\n",
      "Epoch 44/70\n",
      "48/48 - 1s - loss: 1.1369 - accuracy: 0.5597 - val_loss: 1.0929 - val_accuracy: 0.5527 - 1s/epoch - 23ms/step\n",
      "Epoch 45/70\n",
      "48/48 - 1s - loss: 1.1173 - accuracy: 0.5477 - val_loss: 1.0857 - val_accuracy: 0.5567 - 1s/epoch - 23ms/step\n",
      "Epoch 46/70\n",
      "48/48 - 1s - loss: 1.1300 - accuracy: 0.5557 - val_loss: 1.0806 - val_accuracy: 0.5686 - 1s/epoch - 23ms/step\n",
      "Epoch 47/70\n",
      "48/48 - 1s - loss: 1.1144 - accuracy: 0.5690 - val_loss: 1.0763 - val_accuracy: 0.5567 - 1s/epoch - 23ms/step\n",
      "Epoch 48/70\n",
      "48/48 - 1s - loss: 1.0961 - accuracy: 0.5869 - val_loss: 1.0705 - val_accuracy: 0.5626 - 1s/epoch - 23ms/step\n",
      "Epoch 49/70\n",
      "48/48 - 1s - loss: 1.1015 - accuracy: 0.5763 - val_loss: 1.0651 - val_accuracy: 0.5586 - 1s/epoch - 23ms/step\n",
      "Epoch 50/70\n",
      "48/48 - 1s - loss: 1.0968 - accuracy: 0.5524 - val_loss: 1.0621 - val_accuracy: 0.5626 - 1s/epoch - 23ms/step\n",
      "Epoch 51/70\n",
      "48/48 - 1s - loss: 1.1014 - accuracy: 0.5623 - val_loss: 1.0571 - val_accuracy: 0.5646 - 1s/epoch - 23ms/step\n",
      "Epoch 52/70\n",
      "48/48 - 1s - loss: 1.0934 - accuracy: 0.5590 - val_loss: 1.0524 - val_accuracy: 0.5507 - 1s/epoch - 23ms/step\n",
      "Epoch 53/70\n",
      "48/48 - 1s - loss: 1.0818 - accuracy: 0.5710 - val_loss: 1.0496 - val_accuracy: 0.5606 - 1s/epoch - 24ms/step\n",
      "Epoch 54/70\n",
      "48/48 - 1s - loss: 1.1020 - accuracy: 0.5444 - val_loss: 1.0454 - val_accuracy: 0.5606 - 1s/epoch - 23ms/step\n",
      "Epoch 55/70\n",
      "48/48 - 1s - loss: 1.0791 - accuracy: 0.5623 - val_loss: 1.0439 - val_accuracy: 0.5606 - 1s/epoch - 23ms/step\n",
      "Epoch 56/70\n",
      "48/48 - 1s - loss: 1.0672 - accuracy: 0.5703 - val_loss: 1.0376 - val_accuracy: 0.5646 - 1s/epoch - 24ms/step\n",
      "Epoch 57/70\n",
      "48/48 - 1s - loss: 1.0683 - accuracy: 0.5637 - val_loss: 1.0350 - val_accuracy: 0.5527 - 1s/epoch - 23ms/step\n",
      "Epoch 58/70\n",
      "48/48 - 1s - loss: 1.0663 - accuracy: 0.5650 - val_loss: 1.0324 - val_accuracy: 0.5606 - 1s/epoch - 23ms/step\n",
      "Epoch 59/70\n",
      "48/48 - 1s - loss: 1.0623 - accuracy: 0.5623 - val_loss: 1.0285 - val_accuracy: 0.5666 - 1s/epoch - 24ms/step\n",
      "Epoch 60/70\n",
      "48/48 - 1s - loss: 1.0626 - accuracy: 0.5544 - val_loss: 1.0258 - val_accuracy: 0.5567 - 1s/epoch - 23ms/step\n",
      "Epoch 61/70\n",
      "48/48 - 1s - loss: 1.0538 - accuracy: 0.5597 - val_loss: 1.0232 - val_accuracy: 0.5567 - 1s/epoch - 23ms/step\n",
      "Epoch 62/70\n",
      "48/48 - 1s - loss: 1.0480 - accuracy: 0.5710 - val_loss: 1.0210 - val_accuracy: 0.5646 - 1s/epoch - 23ms/step\n",
      "Epoch 63/70\n",
      "48/48 - 1s - loss: 1.0515 - accuracy: 0.5590 - val_loss: 1.0181 - val_accuracy: 0.5626 - 1s/epoch - 24ms/step\n",
      "Epoch 64/70\n",
      "48/48 - 1s - loss: 1.0488 - accuracy: 0.5670 - val_loss: 1.0179 - val_accuracy: 0.5586 - 1s/epoch - 23ms/step\n",
      "Epoch 65/70\n",
      "48/48 - 1s - loss: 1.0531 - accuracy: 0.5623 - val_loss: 1.0126 - val_accuracy: 0.5686 - 1s/epoch - 24ms/step\n",
      "Epoch 66/70\n",
      "48/48 - 1s - loss: 1.0324 - accuracy: 0.5855 - val_loss: 1.0098 - val_accuracy: 0.5606 - 1s/epoch - 23ms/step\n",
      "Epoch 67/70\n",
      "48/48 - 1s - loss: 1.0316 - accuracy: 0.5769 - val_loss: 1.0077 - val_accuracy: 0.5726 - 1s/epoch - 23ms/step\n",
      "Epoch 68/70\n",
      "48/48 - 1s - loss: 1.0494 - accuracy: 0.5617 - val_loss: 1.0072 - val_accuracy: 0.5706 - 1s/epoch - 23ms/step\n",
      "Epoch 69/70\n",
      "48/48 - 1s - loss: 1.0367 - accuracy: 0.5623 - val_loss: 1.0051 - val_accuracy: 0.5686 - 1s/epoch - 23ms/step\n",
      "Epoch 70/70\n",
      "48/48 - 1s - loss: 1.0448 - accuracy: 0.5544 - val_loss: 1.0046 - val_accuracy: 0.5606 - 1s/epoch - 23ms/step\n"
     ]
    }
   ],
   "source": [
    "\n",
    "\n",
    "from keras.regularizers import l2\n",
    "\n",
    "# We need sequential model to process sequence of text data\n",
    "model=Sequential()\n",
    "\n",
    "# Embedding(input_dimension, output_dimension,embeddings_initializer = initialize the embedding matrix we created, trainable = do not train)\n",
    "embedding=Embedding(num_words,100,\n",
    "                    embeddings_initializer=Constant(embedding_matrix),\n",
    "                    input_length=MAX_LEN,\n",
    "                    trainable=False)\n",
    "# Adding Embedding Layer\n",
    "model.add(embedding)\n",
    "\n",
    "# Drops 40% of entire row\n",
    "model.add(SpatialDropout1D(0.4))\n",
    "\n",
    "# Recurrent Layer LSTM(dimensionality of the output space, dropout = 20%, recurrent_dropout = 20%) \n",
    "model.add(LSTM(64, dropout=0.2, recurrent_dropout=0.2, kernel_regularizer=l2(0.01)))\n",
    "\n",
    "# Add a Dense layer with L2 regularization and dropout\n",
    "model.add(Dense(32, activation='relu', kernel_regularizer=l2(0.01)))\n",
    "model.add(Dropout(0.5))\n",
    "\n",
    "# Decide what we are going to output Dense(units, activation function)\n",
    "model.add(Dense(3, activation='softmax'))\n",
    "\n",
    "# Compile the model compile(loss = categorical crossentropy, use Adam(adaptive moment estimation) optimizer with learning rate 1e-3,evaluate based on accuracy)\n",
    "model.compile(loss='categorical_crossentropy',optimizer=Adam(learning_rate=1e-4),metrics=['accuracy'])\n",
    "\n",
    "model.summary()\n",
    "\n",
    "# # convert target variable to one-hot encoded format\n",
    "# y_train = pd.get_dummies(y_train)\n",
    "\n",
    "# train the model\n",
    "history=model.fit(X_train,y_train_dummies,batch_size=32,epochs=100,validation_data=(X_test,y_test_dummies),verbose=2)\n",
    "\n"
   ]
  },
  {
   "cell_type": "markdown",
   "metadata": {},
   "source": [
    "## Build Model: GRU"
   ]
  },
  {
   "cell_type": "code",
   "execution_count": 110,
   "metadata": {
    "ExecutionIndicator": {
     "show": true
    },
    "execution": {
     "iopub.execute_input": "2023-06-08T14:43:47.764555Z",
     "iopub.status.busy": "2023-06-08T14:43:47.764064Z",
     "iopub.status.idle": "2023-06-08T14:43:47.950868Z",
     "shell.execute_reply": "2023-06-08T14:43:47.950100Z",
     "shell.execute_reply.started": "2023-06-08T14:43:47.764521Z"
    },
    "tags": []
   },
   "outputs": [
    {
     "name": "stdout",
     "output_type": "stream",
     "text": [
      "WARNING:tensorflow:Layer gru_1 will not use cuDNN kernels since it doesn't meet the criteria. It will use a generic GPU kernel as fallback when running on GPU.\n",
      "Model: \"sequential_8\"\n",
      "_________________________________________________________________\n",
      " Layer (type)                Output Shape              Param #   \n",
      "=================================================================\n",
      " embedding_8 (Embedding)     (None, 6, 100)            182600    \n",
      "                                                                 \n",
      " spatial_dropout1d_8 (Spatia  (None, 6, 100)           0         \n",
      " lDropout1D)                                                     \n",
      "                                                                 \n",
      " gru_1 (GRU)                 (None, 64)                31872     \n",
      "                                                                 \n",
      " dense_10 (Dense)            (None, 3)                 195       \n",
      "                                                                 \n",
      "=================================================================\n",
      "Total params: 214,667\n",
      "Trainable params: 32,067\n",
      "Non-trainable params: 182,600\n",
      "_________________________________________________________________\n"
     ]
    }
   ],
   "source": [
    "# Try GRU\n",
    "\n",
    "# We need sequential model_gru to process sequence of text data\n",
    "model_gru=Sequential()\n",
    "\n",
    "# Embedding(input_dimension, output_dimension,embeddings_initializer = initialize the embedding matrix we created, trainable = do not train)\n",
    "embedding=Embedding(num_words,100,\n",
    "                    embeddings_initializer=Constant(embedding_matrix),\n",
    "                    input_length=MAX_LEN,\n",
    "                    trainable=False)\n",
    "# Adding Embedding Layer\n",
    "model_gru.add(embedding)\n",
    "\n",
    "# Drops 40% of entire row\n",
    "model_gru.add(SpatialDropout1D(0.4))\n",
    "\n",
    "# Recurrent Layer GRU(dimensionality of the output space, dropout = 20%, recurrent_dropout = 20%) \n",
    "model_gru.add(GRU(64, dropout=0.2, recurrent_dropout=0.2))\n",
    "\n",
    "# Decide what we are going to output Dense(units, activation function)\n",
    "model_gru.add(Dense(3, activation='softmax'))\n",
    "\n",
    "# Compile the model_gru compile(loss = binary crossentropy, use Adam(adaptive moment estimation) optimizer with learning rate 1e-3,evaluate based on accuracy)\n",
    "model_gru.compile(loss='categorical_crossentropy',optimizer=Adam(learning_rate=1e-4),metrics=['accuracy'])\n",
    "\n",
    "model_gru.summary()"
   ]
  },
  {
   "cell_type": "code",
   "execution_count": 111,
   "metadata": {
    "ExecutionIndicator": {
     "show": true
    },
    "execution": {
     "iopub.execute_input": "2023-06-08T14:43:53.263180Z",
     "iopub.status.busy": "2023-06-08T14:43:53.262670Z",
     "iopub.status.idle": "2023-06-08T14:45:37.279102Z",
     "shell.execute_reply": "2023-06-08T14:45:37.278362Z",
     "shell.execute_reply.started": "2023-06-08T14:43:53.263139Z"
    },
    "tags": []
   },
   "outputs": [
    {
     "name": "stdout",
     "output_type": "stream",
     "text": [
      "Epoch 1/100\n",
      "48/48 - 4s - loss: 1.1270 - accuracy: 0.3395 - val_loss: 1.0941 - val_accuracy: 0.3837 - 4s/epoch - 75ms/step\n",
      "Epoch 2/100\n",
      "48/48 - 1s - loss: 1.0972 - accuracy: 0.3694 - val_loss: 1.0788 - val_accuracy: 0.4195 - 1s/epoch - 21ms/step\n",
      "Epoch 3/100\n",
      "48/48 - 1s - loss: 1.0871 - accuracy: 0.4098 - val_loss: 1.0714 - val_accuracy: 0.4433 - 998ms/epoch - 21ms/step\n",
      "Epoch 4/100\n",
      "48/48 - 1s - loss: 1.0826 - accuracy: 0.4310 - val_loss: 1.0650 - val_accuracy: 0.4592 - 999ms/epoch - 21ms/step\n",
      "Epoch 5/100\n",
      "48/48 - 1s - loss: 1.0815 - accuracy: 0.4231 - val_loss: 1.0605 - val_accuracy: 0.4791 - 1s/epoch - 21ms/step\n",
      "Epoch 6/100\n",
      "48/48 - 1s - loss: 1.0668 - accuracy: 0.4609 - val_loss: 1.0556 - val_accuracy: 0.4732 - 1s/epoch - 21ms/step\n",
      "Epoch 7/100\n",
      "48/48 - 1s - loss: 1.0646 - accuracy: 0.4688 - val_loss: 1.0516 - val_accuracy: 0.4672 - 1s/epoch - 21ms/step\n",
      "Epoch 8/100\n",
      "48/48 - 1s - loss: 1.0625 - accuracy: 0.4589 - val_loss: 1.0473 - val_accuracy: 0.4811 - 1s/epoch - 21ms/step\n",
      "Epoch 9/100\n",
      "48/48 - 1s - loss: 1.0603 - accuracy: 0.4821 - val_loss: 1.0433 - val_accuracy: 0.4791 - 996ms/epoch - 21ms/step\n",
      "Epoch 10/100\n",
      "48/48 - 1s - loss: 1.0490 - accuracy: 0.4715 - val_loss: 1.0388 - val_accuracy: 0.4911 - 999ms/epoch - 21ms/step\n",
      "Epoch 11/100\n",
      "48/48 - 1s - loss: 1.0419 - accuracy: 0.4741 - val_loss: 1.0338 - val_accuracy: 0.4950 - 998ms/epoch - 21ms/step\n",
      "Epoch 12/100\n",
      "48/48 - 1s - loss: 1.0353 - accuracy: 0.4801 - val_loss: 1.0288 - val_accuracy: 0.4891 - 1s/epoch - 21ms/step\n",
      "Epoch 13/100\n",
      "48/48 - 1s - loss: 1.0369 - accuracy: 0.4887 - val_loss: 1.0242 - val_accuracy: 0.4891 - 1s/epoch - 21ms/step\n",
      "Epoch 14/100\n",
      "48/48 - 1s - loss: 1.0355 - accuracy: 0.4927 - val_loss: 1.0181 - val_accuracy: 0.5010 - 1s/epoch - 21ms/step\n",
      "Epoch 15/100\n",
      "48/48 - 1s - loss: 1.0222 - accuracy: 0.5040 - val_loss: 1.0113 - val_accuracy: 0.5030 - 1s/epoch - 21ms/step\n",
      "Epoch 16/100\n",
      "48/48 - 1s - loss: 1.0181 - accuracy: 0.4973 - val_loss: 1.0042 - val_accuracy: 0.5050 - 1s/epoch - 22ms/step\n",
      "Epoch 17/100\n",
      "48/48 - 1s - loss: 1.0076 - accuracy: 0.5060 - val_loss: 0.9952 - val_accuracy: 0.5050 - 1s/epoch - 21ms/step\n",
      "Epoch 18/100\n",
      "48/48 - 1s - loss: 1.0082 - accuracy: 0.5172 - val_loss: 0.9880 - val_accuracy: 0.5149 - 1s/epoch - 21ms/step\n",
      "Epoch 19/100\n",
      "48/48 - 1s - loss: 0.9967 - accuracy: 0.5166 - val_loss: 0.9808 - val_accuracy: 0.5229 - 1s/epoch - 21ms/step\n",
      "Epoch 20/100\n",
      "48/48 - 1s - loss: 0.9890 - accuracy: 0.5139 - val_loss: 0.9713 - val_accuracy: 0.5288 - 1s/epoch - 21ms/step\n",
      "Epoch 21/100\n",
      "48/48 - 1s - loss: 0.9823 - accuracy: 0.5179 - val_loss: 0.9619 - val_accuracy: 0.5447 - 1s/epoch - 21ms/step\n",
      "Epoch 22/100\n",
      "48/48 - 1s - loss: 0.9711 - accuracy: 0.5424 - val_loss: 0.9531 - val_accuracy: 0.5487 - 996ms/epoch - 21ms/step\n",
      "Epoch 23/100\n",
      "48/48 - 1s - loss: 0.9641 - accuracy: 0.5504 - val_loss: 0.9448 - val_accuracy: 0.5606 - 1000ms/epoch - 21ms/step\n",
      "Epoch 24/100\n",
      "48/48 - 1s - loss: 0.9623 - accuracy: 0.5351 - val_loss: 0.9370 - val_accuracy: 0.5646 - 1s/epoch - 21ms/step\n",
      "Epoch 25/100\n",
      "48/48 - 1s - loss: 0.9563 - accuracy: 0.5398 - val_loss: 0.9300 - val_accuracy: 0.5666 - 999ms/epoch - 21ms/step\n",
      "Epoch 26/100\n",
      "48/48 - 1s - loss: 0.9417 - accuracy: 0.5524 - val_loss: 0.9222 - val_accuracy: 0.5626 - 1s/epoch - 21ms/step\n",
      "Epoch 27/100\n",
      "48/48 - 1s - loss: 0.9341 - accuracy: 0.5477 - val_loss: 0.9173 - val_accuracy: 0.5547 - 1s/epoch - 21ms/step\n",
      "Epoch 28/100\n",
      "48/48 - 1s - loss: 0.9248 - accuracy: 0.5471 - val_loss: 0.9110 - val_accuracy: 0.5746 - 1s/epoch - 21ms/step\n",
      "Epoch 29/100\n",
      "48/48 - 1s - loss: 0.9183 - accuracy: 0.5511 - val_loss: 0.9069 - val_accuracy: 0.5746 - 1s/epoch - 21ms/step\n",
      "Epoch 30/100\n",
      "48/48 - 1s - loss: 0.9192 - accuracy: 0.5564 - val_loss: 0.9040 - val_accuracy: 0.5646 - 1s/epoch - 21ms/step\n",
      "Epoch 31/100\n",
      "48/48 - 1s - loss: 0.9188 - accuracy: 0.5544 - val_loss: 0.9021 - val_accuracy: 0.5626 - 1s/epoch - 21ms/step\n",
      "Epoch 32/100\n",
      "48/48 - 1s - loss: 0.9233 - accuracy: 0.5497 - val_loss: 0.8983 - val_accuracy: 0.5646 - 1000ms/epoch - 21ms/step\n",
      "Epoch 33/100\n",
      "48/48 - 1s - loss: 0.9230 - accuracy: 0.5577 - val_loss: 0.8957 - val_accuracy: 0.5606 - 996ms/epoch - 21ms/step\n",
      "Epoch 34/100\n",
      "48/48 - 1s - loss: 0.9194 - accuracy: 0.5763 - val_loss: 0.8936 - val_accuracy: 0.5567 - 996ms/epoch - 21ms/step\n",
      "Epoch 35/100\n",
      "48/48 - 1s - loss: 0.9013 - accuracy: 0.5816 - val_loss: 0.8918 - val_accuracy: 0.5586 - 1s/epoch - 21ms/step\n",
      "Epoch 36/100\n",
      "48/48 - 1s - loss: 0.9035 - accuracy: 0.5630 - val_loss: 0.8885 - val_accuracy: 0.5606 - 1s/epoch - 21ms/step\n",
      "Epoch 37/100\n",
      "48/48 - 1s - loss: 0.8965 - accuracy: 0.5809 - val_loss: 0.8884 - val_accuracy: 0.5547 - 1s/epoch - 21ms/step\n",
      "Epoch 38/100\n",
      "48/48 - 1s - loss: 0.9033 - accuracy: 0.5829 - val_loss: 0.8863 - val_accuracy: 0.5547 - 1s/epoch - 22ms/step\n",
      "Epoch 39/100\n",
      "48/48 - 1s - loss: 0.8949 - accuracy: 0.5650 - val_loss: 0.8851 - val_accuracy: 0.5606 - 1s/epoch - 21ms/step\n",
      "Epoch 40/100\n",
      "48/48 - 1s - loss: 0.8799 - accuracy: 0.5889 - val_loss: 0.8834 - val_accuracy: 0.5606 - 1s/epoch - 21ms/step\n",
      "Epoch 41/100\n",
      "48/48 - 1s - loss: 0.8930 - accuracy: 0.5836 - val_loss: 0.8824 - val_accuracy: 0.5726 - 1s/epoch - 21ms/step\n",
      "Epoch 42/100\n",
      "48/48 - 1s - loss: 0.9014 - accuracy: 0.5769 - val_loss: 0.8814 - val_accuracy: 0.5666 - 1s/epoch - 21ms/step\n",
      "Epoch 43/100\n",
      "48/48 - 1s - loss: 0.8773 - accuracy: 0.5975 - val_loss: 0.8804 - val_accuracy: 0.5666 - 1s/epoch - 21ms/step\n",
      "Epoch 44/100\n",
      "48/48 - 1s - loss: 0.8908 - accuracy: 0.5928 - val_loss: 0.8786 - val_accuracy: 0.5726 - 1s/epoch - 21ms/step\n",
      "Epoch 45/100\n",
      "48/48 - 1s - loss: 0.8704 - accuracy: 0.5995 - val_loss: 0.8780 - val_accuracy: 0.5706 - 1s/epoch - 21ms/step\n",
      "Epoch 46/100\n",
      "48/48 - 1s - loss: 0.8699 - accuracy: 0.5955 - val_loss: 0.8775 - val_accuracy: 0.5626 - 1s/epoch - 21ms/step\n",
      "Epoch 47/100\n",
      "48/48 - 1s - loss: 0.8766 - accuracy: 0.5955 - val_loss: 0.8755 - val_accuracy: 0.5686 - 994ms/epoch - 21ms/step\n",
      "Epoch 48/100\n",
      "48/48 - 1s - loss: 0.8822 - accuracy: 0.5975 - val_loss: 0.8744 - val_accuracy: 0.5706 - 1s/epoch - 22ms/step\n",
      "Epoch 49/100\n",
      "48/48 - 1s - loss: 0.8714 - accuracy: 0.5942 - val_loss: 0.8733 - val_accuracy: 0.5765 - 1s/epoch - 21ms/step\n",
      "Epoch 50/100\n",
      "48/48 - 1s - loss: 0.8697 - accuracy: 0.5836 - val_loss: 0.8728 - val_accuracy: 0.5805 - 1s/epoch - 21ms/step\n",
      "Epoch 51/100\n",
      "48/48 - 1s - loss: 0.8608 - accuracy: 0.6121 - val_loss: 0.8713 - val_accuracy: 0.5905 - 1s/epoch - 21ms/step\n",
      "Epoch 52/100\n",
      "48/48 - 1s - loss: 0.8693 - accuracy: 0.5895 - val_loss: 0.8698 - val_accuracy: 0.5825 - 1s/epoch - 21ms/step\n",
      "Epoch 53/100\n",
      "48/48 - 1s - loss: 0.8787 - accuracy: 0.5948 - val_loss: 0.8701 - val_accuracy: 0.5726 - 996ms/epoch - 21ms/step\n",
      "Epoch 54/100\n",
      "48/48 - 1s - loss: 0.8703 - accuracy: 0.6068 - val_loss: 0.8691 - val_accuracy: 0.5746 - 1s/epoch - 21ms/step\n",
      "Epoch 55/100\n",
      "48/48 - 1s - loss: 0.8743 - accuracy: 0.5988 - val_loss: 0.8684 - val_accuracy: 0.5785 - 1s/epoch - 21ms/step\n",
      "Epoch 56/100\n",
      "48/48 - 1s - loss: 0.8652 - accuracy: 0.6207 - val_loss: 0.8657 - val_accuracy: 0.5785 - 1s/epoch - 21ms/step\n",
      "Epoch 57/100\n",
      "48/48 - 1s - loss: 0.8614 - accuracy: 0.5908 - val_loss: 0.8659 - val_accuracy: 0.5805 - 1s/epoch - 21ms/step\n",
      "Epoch 58/100\n",
      "48/48 - 1s - loss: 0.8535 - accuracy: 0.5962 - val_loss: 0.8656 - val_accuracy: 0.5765 - 1s/epoch - 21ms/step\n",
      "Epoch 59/100\n",
      "48/48 - 1s - loss: 0.8471 - accuracy: 0.6061 - val_loss: 0.8646 - val_accuracy: 0.5924 - 1s/epoch - 21ms/step\n",
      "Epoch 60/100\n",
      "48/48 - 1s - loss: 0.8527 - accuracy: 0.6054 - val_loss: 0.8654 - val_accuracy: 0.5825 - 1s/epoch - 21ms/step\n",
      "Epoch 61/100\n",
      "48/48 - 1s - loss: 0.8692 - accuracy: 0.5995 - val_loss: 0.8640 - val_accuracy: 0.5845 - 1s/epoch - 21ms/step\n",
      "Epoch 62/100\n",
      "48/48 - 1s - loss: 0.8455 - accuracy: 0.6167 - val_loss: 0.8635 - val_accuracy: 0.5845 - 992ms/epoch - 21ms/step\n",
      "Epoch 63/100\n",
      "48/48 - 1s - loss: 0.8549 - accuracy: 0.6154 - val_loss: 0.8628 - val_accuracy: 0.5865 - 1s/epoch - 21ms/step\n",
      "Epoch 64/100\n",
      "48/48 - 1s - loss: 0.8606 - accuracy: 0.6008 - val_loss: 0.8626 - val_accuracy: 0.5865 - 1s/epoch - 21ms/step\n",
      "Epoch 65/100\n",
      "48/48 - 1s - loss: 0.8539 - accuracy: 0.6094 - val_loss: 0.8615 - val_accuracy: 0.5865 - 1s/epoch - 21ms/step\n",
      "Epoch 66/100\n",
      "48/48 - 1s - loss: 0.8329 - accuracy: 0.6214 - val_loss: 0.8598 - val_accuracy: 0.5825 - 1s/epoch - 21ms/step\n",
      "Epoch 67/100\n",
      "48/48 - 1s - loss: 0.8511 - accuracy: 0.6041 - val_loss: 0.8600 - val_accuracy: 0.5845 - 1s/epoch - 23ms/step\n",
      "Epoch 68/100\n",
      "48/48 - 1s - loss: 0.8368 - accuracy: 0.6121 - val_loss: 0.8602 - val_accuracy: 0.5845 - 1s/epoch - 22ms/step\n",
      "Epoch 69/100\n",
      "48/48 - 1s - loss: 0.8427 - accuracy: 0.6101 - val_loss: 0.8596 - val_accuracy: 0.5865 - 1s/epoch - 21ms/step\n",
      "Epoch 70/100\n",
      "48/48 - 1s - loss: 0.8393 - accuracy: 0.6074 - val_loss: 0.8600 - val_accuracy: 0.5924 - 1s/epoch - 21ms/step\n",
      "Epoch 71/100\n",
      "48/48 - 1s - loss: 0.8478 - accuracy: 0.6001 - val_loss: 0.8592 - val_accuracy: 0.5885 - 1s/epoch - 21ms/step\n",
      "Epoch 72/100\n",
      "48/48 - 1s - loss: 0.8399 - accuracy: 0.6154 - val_loss: 0.8570 - val_accuracy: 0.5885 - 1s/epoch - 21ms/step\n",
      "Epoch 73/100\n",
      "48/48 - 1s - loss: 0.8368 - accuracy: 0.6286 - val_loss: 0.8565 - val_accuracy: 0.5905 - 1s/epoch - 21ms/step\n",
      "Epoch 74/100\n",
      "48/48 - 1s - loss: 0.8432 - accuracy: 0.6141 - val_loss: 0.8568 - val_accuracy: 0.5905 - 1s/epoch - 21ms/step\n",
      "Epoch 75/100\n",
      "48/48 - 1s - loss: 0.8476 - accuracy: 0.6121 - val_loss: 0.8561 - val_accuracy: 0.5905 - 1s/epoch - 22ms/step\n",
      "Epoch 76/100\n",
      "48/48 - 1s - loss: 0.8237 - accuracy: 0.6313 - val_loss: 0.8566 - val_accuracy: 0.5885 - 997ms/epoch - 21ms/step\n",
      "Epoch 77/100\n",
      "48/48 - 1s - loss: 0.8507 - accuracy: 0.6114 - val_loss: 0.8551 - val_accuracy: 0.5944 - 1s/epoch - 21ms/step\n",
      "Epoch 78/100\n",
      "48/48 - 1s - loss: 0.8274 - accuracy: 0.6194 - val_loss: 0.8540 - val_accuracy: 0.5885 - 1s/epoch - 21ms/step\n",
      "Epoch 79/100\n",
      "48/48 - 1s - loss: 0.8318 - accuracy: 0.6200 - val_loss: 0.8540 - val_accuracy: 0.5845 - 1s/epoch - 21ms/step\n",
      "Epoch 80/100\n",
      "48/48 - 1s - loss: 0.8486 - accuracy: 0.6034 - val_loss: 0.8560 - val_accuracy: 0.5865 - 1s/epoch - 21ms/step\n",
      "Epoch 81/100\n",
      "48/48 - 1s - loss: 0.8260 - accuracy: 0.6194 - val_loss: 0.8544 - val_accuracy: 0.5845 - 995ms/epoch - 21ms/step\n",
      "Epoch 82/100\n",
      "48/48 - 1s - loss: 0.8206 - accuracy: 0.6340 - val_loss: 0.8540 - val_accuracy: 0.5845 - 999ms/epoch - 21ms/step\n",
      "Epoch 83/100\n",
      "48/48 - 1s - loss: 0.8252 - accuracy: 0.6373 - val_loss: 0.8541 - val_accuracy: 0.5845 - 996ms/epoch - 21ms/step\n",
      "Epoch 84/100\n",
      "48/48 - 1s - loss: 0.8273 - accuracy: 0.6233 - val_loss: 0.8516 - val_accuracy: 0.5905 - 1s/epoch - 21ms/step\n",
      "Epoch 85/100\n",
      "48/48 - 1s - loss: 0.8232 - accuracy: 0.6306 - val_loss: 0.8522 - val_accuracy: 0.5865 - 1s/epoch - 21ms/step\n",
      "Epoch 86/100\n",
      "48/48 - 1s - loss: 0.8302 - accuracy: 0.6286 - val_loss: 0.8507 - val_accuracy: 0.5885 - 996ms/epoch - 21ms/step\n",
      "Epoch 87/100\n",
      "48/48 - 1s - loss: 0.8056 - accuracy: 0.6326 - val_loss: 0.8505 - val_accuracy: 0.5924 - 1s/epoch - 22ms/step\n",
      "Epoch 88/100\n",
      "48/48 - 1s - loss: 0.8238 - accuracy: 0.6286 - val_loss: 0.8506 - val_accuracy: 0.5905 - 999ms/epoch - 21ms/step\n",
      "Epoch 89/100\n",
      "48/48 - 1s - loss: 0.8389 - accuracy: 0.6214 - val_loss: 0.8506 - val_accuracy: 0.5964 - 1s/epoch - 21ms/step\n",
      "Epoch 90/100\n",
      "48/48 - 1s - loss: 0.8321 - accuracy: 0.6107 - val_loss: 0.8513 - val_accuracy: 0.5905 - 1s/epoch - 21ms/step\n",
      "Epoch 91/100\n",
      "48/48 - 1s - loss: 0.8192 - accuracy: 0.6260 - val_loss: 0.8520 - val_accuracy: 0.5885 - 997ms/epoch - 21ms/step\n",
      "Epoch 92/100\n",
      "48/48 - 1s - loss: 0.8146 - accuracy: 0.6167 - val_loss: 0.8503 - val_accuracy: 0.5905 - 996ms/epoch - 21ms/step\n",
      "Epoch 93/100\n",
      "48/48 - 1s - loss: 0.8215 - accuracy: 0.6267 - val_loss: 0.8512 - val_accuracy: 0.5865 - 1s/epoch - 21ms/step\n",
      "Epoch 94/100\n",
      "48/48 - 1s - loss: 0.8222 - accuracy: 0.6194 - val_loss: 0.8507 - val_accuracy: 0.5944 - 1s/epoch - 21ms/step\n",
      "Epoch 95/100\n",
      "48/48 - 1s - loss: 0.8133 - accuracy: 0.6207 - val_loss: 0.8496 - val_accuracy: 0.5865 - 1s/epoch - 21ms/step\n",
      "Epoch 96/100\n",
      "48/48 - 1s - loss: 0.8079 - accuracy: 0.6320 - val_loss: 0.8498 - val_accuracy: 0.5964 - 1s/epoch - 21ms/step\n",
      "Epoch 97/100\n",
      "48/48 - 1s - loss: 0.8140 - accuracy: 0.6300 - val_loss: 0.8490 - val_accuracy: 0.5944 - 1s/epoch - 21ms/step\n",
      "Epoch 98/100\n",
      "48/48 - 1s - loss: 0.8203 - accuracy: 0.6227 - val_loss: 0.8488 - val_accuracy: 0.5924 - 1s/epoch - 21ms/step\n",
      "Epoch 99/100\n",
      "48/48 - 1s - loss: 0.8210 - accuracy: 0.6227 - val_loss: 0.8475 - val_accuracy: 0.5924 - 1s/epoch - 21ms/step\n",
      "Epoch 100/100\n",
      "48/48 - 1s - loss: 0.8178 - accuracy: 0.6260 - val_loss: 0.8492 - val_accuracy: 0.5924 - 1s/epoch - 21ms/step\n"
     ]
    }
   ],
   "source": [
    "history=model_gru.fit(X_train,y_train_dummies,batch_size=32,epochs=100,validation_data=(X_test,y_test_dummies),verbose=2)\n"
   ]
  },
  {
   "cell_type": "code",
   "execution_count": 112,
   "metadata": {
    "execution": {
     "iopub.execute_input": "2023-06-08T14:51:53.272177Z",
     "iopub.status.busy": "2023-06-08T14:51:53.271653Z",
     "iopub.status.idle": "2023-06-08T14:51:53.503830Z",
     "shell.execute_reply": "2023-06-08T14:51:53.503041Z",
     "shell.execute_reply.started": "2023-06-08T14:51:53.272146Z"
    },
    "tags": []
   },
   "outputs": [
    {
     "data": {
      "image/png": "[encoded data removed]",
      "text/plain": [
       "<Figure size 640x480 with 1 Axes>"
      ]
     },
     "metadata": {},
     "output_type": "display_data"
    }
   ],
   "source": [
    "# Accuracy vs Epoch\n",
    "plt.title('Accuracy')\n",
    "plt.plot(history.history['accuracy'], label='train')\n",
    "plt.plot(history.history['val_accuracy'], label='test')\n",
    "plt.legend()\n",
    "plt.show();"
   ]
  },
  {
   "cell_type": "markdown",
   "metadata": {},
   "source": [
    "## Try LSTM with learning rate scheduling\n",
    "\n",
    "After submitting the preiction to Kaggle, the result with LSTM is slightly higher than GRU.\n",
    "Let's stick to LSTM and see if we can further improve the performance with learning rate scheduling"
   ]
  },
  {
   "cell_type": "code",
   "execution_count": 116,
   "metadata": {
    "ExecutionIndicator": {
     "show": true
    },
    "execution": {
     "iopub.execute_input": "2023-06-08T15:02:48.923853Z",
     "iopub.status.busy": "2023-06-08T15:02:48.923312Z",
     "iopub.status.idle": "2023-06-08T15:02:49.095931Z",
     "shell.execute_reply": "2023-06-08T15:02:49.094986Z",
     "shell.execute_reply.started": "2023-06-08T15:02:48.923823Z"
    },
    "tags": []
   },
   "outputs": [
    {
     "name": "stdout",
     "output_type": "stream",
     "text": [
      "WARNING:tensorflow:Layer lstm_8 will not use cuDNN kernels since it doesn't meet the criteria. It will use a generic GPU kernel as fallback when running on GPU.\n",
      "Model: \"sequential_10\"\n",
      "_________________________________________________________________\n",
      " Layer (type)                Output Shape              Param #   \n",
      "=================================================================\n",
      " embedding_10 (Embedding)    (None, 6, 100)            182600    \n",
      "                                                                 \n",
      " spatial_dropout1d_10 (Spati  (None, 6, 100)           0         \n",
      " alDropout1D)                                                    \n",
      "                                                                 \n",
      " lstm_8 (LSTM)               (None, 64)                42240     \n",
      "                                                                 \n",
      " dense_12 (Dense)            (None, 3)                 195       \n",
      "                                                                 \n",
      "=================================================================\n",
      "Total params: 225,035\n",
      "Trainable params: 42,435\n",
      "Non-trainable params: 182,600\n",
      "_________________________________________________________________\n"
     ]
    }
   ],
   "source": [
    "# Long Short Term Memory network.\n",
    "\n",
    "# We need sequential model to process sequence of text data\n",
    "model=Sequential()\n",
    "\n",
    "# Embedding(input_dimension, output_dimension,embeddings_initializer = initialize the embedding matrix we created, trainable = do not train)\n",
    "embedding=Embedding(num_words,100,\n",
    "                    embeddings_initializer=Constant(embedding_matrix),\n",
    "                    input_length=MAX_LEN,\n",
    "                    trainable=False)\n",
    "# Adding Embedding Layer\n",
    "model.add(embedding)\n",
    "\n",
    "# Drops 40% of entire row\n",
    "model.add(SpatialDropout1D(0.4))\n",
    "\n",
    "# Recurrent Layer LSTM(dimensionality of the output space, dropout = 20%, recurrent_dropout = 20%) \n",
    "model.add(LSTM(64, dropout=0.2, recurrent_dropout=0.2))\n",
    "\n",
    "# Decide what we are going to output Dense(units, activation function)\n",
    "model.add(Dense(3, activation='softmax'))\n",
    "\n",
    "# Compile the model compile(loss = binary crossentropy, use Adam(adaptive moment estimation) optimizer with learning rate 1e-3,evaluate based on accuracy)\n",
    "model.compile(loss='categorical_crossentropy',optimizer=Adam(learning_rate=1e-4),metrics=['accuracy'])\n",
    "\n",
    "model.summary()"
   ]
  },
  {
   "cell_type": "code",
   "execution_count": 117,
   "metadata": {
    "ExecutionIndicator": {
     "show": true
    },
    "execution": {
     "iopub.execute_input": "2023-06-08T15:02:52.752231Z",
     "iopub.status.busy": "2023-06-08T15:02:52.751723Z",
     "iopub.status.idle": "2023-06-08T15:03:28.536468Z",
     "shell.execute_reply": "2023-06-08T15:03:28.535631Z",
     "shell.execute_reply.started": "2023-06-08T15:02:52.752193Z"
    },
    "tags": []
   },
   "outputs": [
    {
     "name": "stdout",
     "output_type": "stream",
     "text": [
      "Epoch 1/30\n",
      "48/48 - 4s - loss: 1.0033 - accuracy: 0.4960 - val_loss: 0.8947 - val_accuracy: 0.5905 - lr: 0.0100 - 4s/epoch - 79ms/step\n",
      "Epoch 2/30\n",
      "48/48 - 1s - loss: 0.8950 - accuracy: 0.5763 - val_loss: 0.8882 - val_accuracy: 0.5646 - lr: 0.0100 - 1s/epoch - 23ms/step\n",
      "Epoch 3/30\n",
      "48/48 - 1s - loss: 0.8603 - accuracy: 0.5862 - val_loss: 0.8608 - val_accuracy: 0.6064 - lr: 0.0100 - 1s/epoch - 23ms/step\n",
      "Epoch 4/30\n",
      "48/48 - 1s - loss: 0.8080 - accuracy: 0.6286 - val_loss: 0.8765 - val_accuracy: 0.6083 - lr: 0.0100 - 1s/epoch - 23ms/step\n",
      "Epoch 5/30\n",
      "48/48 - 1s - loss: 0.7711 - accuracy: 0.6512 - val_loss: 0.8467 - val_accuracy: 0.6024 - lr: 0.0050 - 1s/epoch - 23ms/step\n",
      "Epoch 6/30\n",
      "48/48 - 1s - loss: 0.7439 - accuracy: 0.6664 - val_loss: 0.8805 - val_accuracy: 0.5924 - lr: 0.0050 - 1s/epoch - 23ms/step\n",
      "Epoch 7/30\n",
      "48/48 - 1s - loss: 0.7191 - accuracy: 0.6870 - val_loss: 0.8381 - val_accuracy: 0.6143 - lr: 0.0050 - 1s/epoch - 23ms/step\n",
      "Epoch 8/30\n",
      "48/48 - 1s - loss: 0.7129 - accuracy: 0.6804 - val_loss: 0.8495 - val_accuracy: 0.6183 - lr: 0.0050 - 1s/epoch - 23ms/step\n",
      "Epoch 9/30\n",
      "48/48 - 1s - loss: 0.6872 - accuracy: 0.7102 - val_loss: 0.8485 - val_accuracy: 0.6203 - lr: 0.0050 - 1s/epoch - 23ms/step\n",
      "Epoch 10/30\n",
      "48/48 - 1s - loss: 0.6579 - accuracy: 0.7042 - val_loss: 0.8432 - val_accuracy: 0.6262 - lr: 0.0025 - 1s/epoch - 23ms/step\n",
      "Epoch 11/30\n",
      "48/48 - 1s - loss: 0.6348 - accuracy: 0.7281 - val_loss: 0.8370 - val_accuracy: 0.6322 - lr: 0.0025 - 1s/epoch - 23ms/step\n",
      "Epoch 12/30\n",
      "48/48 - 1s - loss: 0.6376 - accuracy: 0.7275 - val_loss: 0.8393 - val_accuracy: 0.6183 - lr: 0.0025 - 1s/epoch - 22ms/step\n",
      "Epoch 13/30\n",
      "48/48 - 1s - loss: 0.5966 - accuracy: 0.7434 - val_loss: 0.8570 - val_accuracy: 0.6203 - lr: 0.0025 - 1s/epoch - 23ms/step\n",
      "Epoch 14/30\n",
      "48/48 - 1s - loss: 0.5843 - accuracy: 0.7586 - val_loss: 0.8858 - val_accuracy: 0.6223 - lr: 0.0025 - 1s/epoch - 23ms/step\n",
      "Epoch 15/30\n",
      "48/48 - 1s - loss: 0.5953 - accuracy: 0.7599 - val_loss: 0.8919 - val_accuracy: 0.6243 - lr: 0.0012 - 1s/epoch - 24ms/step\n",
      "Epoch 16/30\n",
      "48/48 - 1s - loss: 0.5778 - accuracy: 0.7759 - val_loss: 0.8953 - val_accuracy: 0.6123 - lr: 0.0012 - 1s/epoch - 23ms/step\n",
      "Epoch 17/30\n",
      "48/48 - 1s - loss: 0.5629 - accuracy: 0.7626 - val_loss: 0.8945 - val_accuracy: 0.6243 - lr: 0.0012 - 1s/epoch - 24ms/step\n",
      "Epoch 18/30\n",
      "48/48 - 1s - loss: 0.5753 - accuracy: 0.7586 - val_loss: 0.8791 - val_accuracy: 0.6183 - lr: 0.0012 - 1s/epoch - 23ms/step\n",
      "Epoch 19/30\n",
      "48/48 - 1s - loss: 0.5449 - accuracy: 0.7752 - val_loss: 0.8850 - val_accuracy: 0.6322 - lr: 0.0012 - 1s/epoch - 23ms/step\n",
      "Epoch 20/30\n",
      "48/48 - 1s - loss: 0.5311 - accuracy: 0.7805 - val_loss: 0.8967 - val_accuracy: 0.6322 - lr: 6.2500e-04 - 1s/epoch - 23ms/step\n",
      "Epoch 21/30\n",
      "48/48 - 1s - loss: 0.5356 - accuracy: 0.7878 - val_loss: 0.8992 - val_accuracy: 0.6302 - lr: 6.2500e-04 - 1s/epoch - 23ms/step\n",
      "Epoch 22/30\n",
      "48/48 - 1s - loss: 0.5359 - accuracy: 0.7725 - val_loss: 0.8995 - val_accuracy: 0.6282 - lr: 6.2500e-04 - 1s/epoch - 23ms/step\n",
      "Epoch 23/30\n",
      "48/48 - 1s - loss: 0.5336 - accuracy: 0.7832 - val_loss: 0.8959 - val_accuracy: 0.6262 - lr: 6.2500e-04 - 1s/epoch - 23ms/step\n",
      "Epoch 24/30\n",
      "48/48 - 1s - loss: 0.5217 - accuracy: 0.7845 - val_loss: 0.9039 - val_accuracy: 0.6262 - lr: 6.2500e-04 - 1s/epoch - 23ms/step\n",
      "Epoch 25/30\n",
      "48/48 - 1s - loss: 0.5043 - accuracy: 0.8064 - val_loss: 0.9130 - val_accuracy: 0.6243 - lr: 3.1250e-04 - 1s/epoch - 23ms/step\n",
      "Epoch 26/30\n",
      "48/48 - 1s - loss: 0.5110 - accuracy: 0.7905 - val_loss: 0.9126 - val_accuracy: 0.6223 - lr: 3.1250e-04 - 1s/epoch - 23ms/step\n",
      "Epoch 27/30\n",
      "48/48 - 1s - loss: 0.4963 - accuracy: 0.7984 - val_loss: 0.9155 - val_accuracy: 0.6243 - lr: 3.1250e-04 - 1s/epoch - 23ms/step\n",
      "Epoch 28/30\n",
      "48/48 - 1s - loss: 0.5021 - accuracy: 0.8004 - val_loss: 0.9250 - val_accuracy: 0.6243 - lr: 3.1250e-04 - 1s/epoch - 23ms/step\n",
      "Epoch 29/30\n",
      "48/48 - 1s - loss: 0.5117 - accuracy: 0.7911 - val_loss: 0.9279 - val_accuracy: 0.6223 - lr: 3.1250e-04 - 1s/epoch - 23ms/step\n",
      "Epoch 30/30\n",
      "48/48 - 1s - loss: 0.4937 - accuracy: 0.8044 - val_loss: 0.9254 - val_accuracy: 0.6223 - lr: 1.5625e-04 - 1s/epoch - 23ms/step\n"
     ]
    }
   ],
   "source": [
    "# Define learning rate schedule\n",
    "def step_decay(epoch):\n",
    "    initial_lr = 0.01\n",
    "    drop = 0.5\n",
    "    epochs_drop = 5.0\n",
    "    lr = initial_lr * math.pow(drop, math.floor((1 + epoch) / epochs_drop))\n",
    "    return lr\n",
    "\n",
    "lrate = LearningRateScheduler(step_decay)\n",
    "\n",
    "# train model with learning rate schedule\n",
    "history=model.fit(X_train,y_train_dummies,batch_size=32,epochs=30,validation_data=(X_test,y_test_dummies),verbose=2,callbacks=[lrate])"
   ]
  },
  {
   "cell_type": "code",
   "execution_count": 118,
   "metadata": {
    "execution": {
     "iopub.execute_input": "2023-06-08T15:03:36.510774Z",
     "iopub.status.busy": "2023-06-08T15:03:36.510233Z",
     "iopub.status.idle": "2023-06-08T15:03:36.715089Z",
     "shell.execute_reply": "2023-06-08T15:03:36.713328Z",
     "shell.execute_reply.started": "2023-06-08T15:03:36.510738Z"
    },
    "tags": []
   },
   "outputs": [
    {
     "data": {
      "image/png": "[encoded data removed]",
      "text/plain": [
       "<Figure size 640x480 with 1 Axes>"
      ]
     },
     "metadata": {},
     "output_type": "display_data"
    }
   ],
   "source": [
    "# Accuracy vs Epoch\n",
    "plt.title('Accuracy')\n",
    "plt.plot(history.history['accuracy'], label='train')\n",
    "plt.plot(history.history['val_accuracy'], label='test')\n",
    "plt.legend()\n",
    "plt.show();"
   ]
  },
  {
   "cell_type": "markdown",
   "metadata": {},
   "source": [
    "### Try multiple layers of LSTM\n",
    "\n",
    "With learning rate schedule, the accuracy got improved a bit, let's try deeper architecture with one more layer of LSTM.\n"
   ]
  },
  {
   "cell_type": "code",
   "execution_count": 121,
   "metadata": {
    "ExecutionIndicator": {
     "show": true
    },
    "execution": {
     "iopub.execute_input": "2023-06-08T15:05:21.294601Z",
     "iopub.status.busy": "2023-06-08T15:05:21.294115Z",
     "iopub.status.idle": "2023-06-08T15:05:21.806031Z",
     "shell.execute_reply": "2023-06-08T15:05:21.805264Z",
     "shell.execute_reply.started": "2023-06-08T15:05:21.294572Z"
    },
    "tags": []
   },
   "outputs": [
    {
     "name": "stdout",
     "output_type": "stream",
     "text": [
      "Model: \"sequential_12\"\n",
      "_________________________________________________________________\n",
      " Layer (type)                Output Shape              Param #   \n",
      "=================================================================\n",
      " embedding_12 (Embedding)    (None, 6, 100)            182600    \n",
      "                                                                 \n",
      " lstm_11 (LSTM)              (None, 6, 128)            117248    \n",
      "                                                                 \n",
      " dropout_4 (Dropout)         (None, 6, 128)            0         \n",
      "                                                                 \n",
      " lstm_12 (LSTM)              (None, 64)                49408     \n",
      "                                                                 \n",
      " dropout_5 (Dropout)         (None, 64)                0         \n",
      "                                                                 \n",
      " flatten_1 (Flatten)         (None, 64)                0         \n",
      "                                                                 \n",
      " dense_15 (Dense)            (None, 32)                2080      \n",
      "                                                                 \n",
      " dense_16 (Dense)            (None, 3)                 99        \n",
      "                                                                 \n",
      "=================================================================\n",
      "Total params: 351,435\n",
      "Trainable params: 168,835\n",
      "Non-trainable params: 182,600\n",
      "_________________________________________________________________\n"
     ]
    }
   ],
   "source": [
    "# Long Short Term Memory network.\n",
    "\n",
    "# We need sequential model to process sequence of text data\n",
    "model=Sequential()\n",
    "\n",
    "# Embedding(input_dimension, output_dimension,embeddings_initializer = initialize the embedding matrix we created, trainable = do not train)\n",
    "embedding=Embedding(num_words,100,\n",
    "                    embeddings_initializer=Constant(embedding_matrix),\n",
    "                    input_length=MAX_LEN,\n",
    "                    trainable=False)\n",
    "# Adding Embedding Layer\n",
    "model.add(embedding)\n",
    "model.add(LSTM(units=128, return_sequences=True))\n",
    "model.add(Dropout(0.2))\n",
    "model.add(LSTM(units=64, return_sequences=False))\n",
    "model.add(Dropout(0.2))\n",
    "model.add(Flatten())\n",
    "model.add(Dense(units=32, activation='relu'))\n",
    "\n",
    "# Decide what we are going to output Dense(units, activation function)\n",
    "model.add(Dense(3, activation='softmax'))\n",
    "\n",
    "# Compile the model compile(loss = binary crossentropy, use Adam(adaptive moment estimation) optimizer with learning rate 1e-3,evaluate based on accuracy)\n",
    "model.compile(loss='categorical_crossentropy',optimizer=Adam(learning_rate=1e-4),metrics=['accuracy'])\n",
    "\n",
    "model.summary()"
   ]
  },
  {
   "cell_type": "code",
   "execution_count": 124,
   "metadata": {
    "ExecutionIndicator": {
     "show": true
    },
    "execution": {
     "iopub.execute_input": "2023-06-08T15:15:11.166824Z",
     "iopub.status.busy": "2023-06-08T15:15:11.166225Z",
     "iopub.status.idle": "2023-06-08T15:15:14.611473Z",
     "shell.execute_reply": "2023-06-08T15:15:14.610680Z",
     "shell.execute_reply.started": "2023-06-08T15:15:11.166790Z"
    },
    "tags": []
   },
   "outputs": [
    {
     "name": "stdout",
     "output_type": "stream",
     "text": [
      "Epoch 1/10\n",
      "48/48 - 0s - loss: 0.5683 - accuracy: 0.7646 - val_loss: 1.0401 - val_accuracy: 0.5865 - lr: 0.0100 - 381ms/epoch - 8ms/step\n",
      "Epoch 2/10\n",
      "48/48 - 0s - loss: 0.6980 - accuracy: 0.7208 - val_loss: 0.9706 - val_accuracy: 0.6262 - lr: 0.0100 - 326ms/epoch - 7ms/step\n",
      "Epoch 3/10\n",
      "48/48 - 0s - loss: 0.5340 - accuracy: 0.7805 - val_loss: 1.0394 - val_accuracy: 0.5885 - lr: 0.0100 - 322ms/epoch - 7ms/step\n",
      "Epoch 4/10\n",
      "48/48 - 0s - loss: 0.4539 - accuracy: 0.8150 - val_loss: 1.0322 - val_accuracy: 0.5805 - lr: 0.0100 - 317ms/epoch - 7ms/step\n",
      "Epoch 5/10\n",
      "48/48 - 0s - loss: 0.3216 - accuracy: 0.8786 - val_loss: 1.3265 - val_accuracy: 0.6083 - lr: 0.0050 - 320ms/epoch - 7ms/step\n",
      "Epoch 6/10\n",
      "48/48 - 0s - loss: 0.1955 - accuracy: 0.9244 - val_loss: 1.5284 - val_accuracy: 0.6163 - lr: 0.0050 - 317ms/epoch - 7ms/step\n",
      "Epoch 7/10\n",
      "48/48 - 0s - loss: 0.1316 - accuracy: 0.9496 - val_loss: 1.9414 - val_accuracy: 0.6103 - lr: 0.0050 - 354ms/epoch - 7ms/step\n",
      "Epoch 8/10\n",
      "48/48 - 0s - loss: 0.1062 - accuracy: 0.9589 - val_loss: 2.0702 - val_accuracy: 0.6123 - lr: 0.0050 - 343ms/epoch - 7ms/step\n",
      "Epoch 9/10\n",
      "48/48 - 0s - loss: 0.0945 - accuracy: 0.9615 - val_loss: 2.2488 - val_accuracy: 0.6183 - lr: 0.0050 - 323ms/epoch - 7ms/step\n",
      "Epoch 10/10\n",
      "48/48 - 0s - loss: 0.0789 - accuracy: 0.9675 - val_loss: 2.3950 - val_accuracy: 0.6163 - lr: 0.0025 - 324ms/epoch - 7ms/step\n"
     ]
    }
   ],
   "source": [
    "# Define learning rate schedule\n",
    "def step_decay(epoch):\n",
    "    initial_lr = 0.01\n",
    "    drop = 0.5\n",
    "    epochs_drop = 5.0\n",
    "    lr = initial_lr * math.pow(drop, math.floor((1 + epoch) / epochs_drop))\n",
    "    return lr\n",
    "\n",
    "lrate = LearningRateScheduler(step_decay)\n",
    "\n",
    "# train model with learning rate schedule\n",
    "history=model.fit(X_train,y_train_dummies,batch_size=32,epochs=10,validation_data=(X_test,y_test_dummies),verbose=2,callbacks=[lrate])"
   ]
  },
  {
   "cell_type": "code",
   "execution_count": 125,
   "metadata": {
    "execution": {
     "iopub.execute_input": "2023-06-08T15:15:17.904530Z",
     "iopub.status.busy": "2023-06-08T15:15:17.904031Z",
     "iopub.status.idle": "2023-06-08T15:15:18.126180Z",
     "shell.execute_reply": "2023-06-08T15:15:18.125383Z",
     "shell.execute_reply.started": "2023-06-08T15:15:17.904500Z"
    },
    "tags": []
   },
   "outputs": [
    {
     "data": {
      "image/png": "[encoded data removed]",
      "text/plain": [
       "<Figure size 640x480 with 1 Axes>"
      ]
     },
     "metadata": {},
     "output_type": "display_data"
    }
   ],
   "source": [
    "# Accuracy vs Epoch\n",
    "plt.title('Accuracy')\n",
    "plt.plot(history.history['accuracy'], label='train')\n",
    "plt.plot(history.history['val_accuracy'], label='test')\n",
    "plt.legend()\n",
    "plt.show();"
   ]
  },
  {
   "cell_type": "markdown",
   "metadata": {},
   "source": [
    "______ \n",
    "# Result\n",
    "\n",
    "Here are the scores on validation data set with different architecture. \n",
    "\n",
    "\n",
    "| Test Round |  Architecture Detail                                       |  Score        |\n",
    "|------------|------------------------------------------------------------|---------------|\n",
    "| 1st Try    |  RNN with one layer   LSTM                                 | 0.6004        |\n",
    "| 2nd Try    |  RNN with one layer LSTM, L2 regularization and dropout    | 0.5606        |\n",
    "| 3rd Try    |  RNN with one layer   GRU                                  | 0.5924        |\n",
    "| 4th Try    | LSTM with learning rate schedule                           | **0.6223**    |\n",
    "| 5th Try    | 2 layers LSTM with learning rate schedule                  | 0.6163        |\n",
    "\n",
    "\n",
    "As we can see from the result, LSTM performed slightly better than GRU in this practice (accuracy score 0.6004 vs 0.5924).\n",
    "\n",
    "Then I try to reduce the overfitting by adding L2 regularization and dropout. But the accuracy on validation set didn't get improved.\n",
    "\n",
    "After adding learning rate schedule to LSTM model, the score improved from 0.6004 to 0.6223, as it allows model to escape local minima or plateaus in the loss landscape. \n",
    "\n",
    "\n",
    "Then I tried deeper architecture with 2 layers LSTM, but it seems it met overfitting issue, the score got decreased (0.6163).\n",
    "\n",
    "So after 5 tries, the highest score I got from the balanced data is only 0.6223, which isn’t great, but it’s a start. And these result are based on 'summary' column.There is room to increase the accuracy by using 'reviewText' column.\n",
    "\n",
    "So here are the **next steps:** \n",
    "\n",
    "* Process 'reviewText' Column and train model on it\n",
    "* Solve the overfitting issue, by applying more dropout layers to the model.\n",
    "* Try more complicated Architectures\n",
    "\n"
   ]
  },
  {
   "cell_type": "code",
   "execution_count": null,
   "metadata": {},
   "outputs": [],
   "source": []
  }
 ],
 "metadata": {
  "kernelspec": {
   "display_name": "Python 3 (ipykernel)",
   "language": "python",
   "name": "python3"
  },
  "language_info": {
   "codemirror_mode": {
    "name": "ipython",
    "version": 3
   },
   "file_extension": ".py",
   "mimetype": "text/x-python",
   "name": "python",
   "nbconvert_exporter": "python",
   "pygments_lexer": "ipython3",
   "version": "3.8.10"
  }
 },
 "nbformat": 4,
 "nbformat_minor": 4
}
